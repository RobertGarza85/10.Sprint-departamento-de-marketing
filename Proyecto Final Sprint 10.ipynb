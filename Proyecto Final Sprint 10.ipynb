{
 "cells": [
  {
   "cell_type": "markdown",
   "metadata": {},
   "source": [
    "# Hola Roberto! <a class=\"tocSkip\"></a>\n",
    "\n",
    "Mi nombre es Oscar Flores y tengo el gusto de revisar tu proyecto. Si tienes algún comentario que quieras agregar en tus respuestas te puedes referir a mi como Oscar, no hay problema que me trates de tú.\n",
    "\n",
    "Si veo un error en la primera revisión solamente lo señalaré y dejaré que tú encuentres de qué se trata y cómo arreglarlo. Debo prepararte para que te desempeñes como especialista en Data, en un trabajo real, el responsable a cargo tuyo hará lo mismo. Si aún tienes dificultades para resolver esta tarea, te daré indicaciones más precisas en una siguiente iteración.\n",
    "\n",
    "Te dejaré mis comentarios más abajo - **por favor, no los muevas, modifiques o borres**\n",
    "\n",
    "Comenzaré mis comentarios con un resumen de los puntos que están bien, aquellos que debes corregir y aquellos que puedes mejorar. Luego deberás revisar todo el notebook para leer mis comentarios, los cuales estarán en rectángulos de color verde, amarillo o rojo como siguen:\n",
    "\n",
    "<div class=\"alert alert-block alert-success\">\n",
    "<b>Comentario de Reviewer</b> <a class=\"tocSkip\"></a>\n",
    "    \n",
    "Muy bien! Toda la respuesta fue lograda satisfactoriamente.\n",
    "</div>\n",
    "\n",
    "<div class=\"alert alert-block alert-warning\">\n",
    "<b>Comentario de Reviewer</b> <a class=\"tocSkip\"></a>\n",
    "\n",
    "Existen detalles a mejorar. Existen recomendaciones.\n",
    "</div>\n",
    "\n",
    "<div class=\"alert alert-block alert-danger\">\n",
    "\n",
    "<b>Comentario de Reviewer</b> <a class=\"tocSkip\"></a>\n",
    "\n",
    "Se necesitan correcciones en el bloque. El trabajo no puede ser aceptado con comentarios en rojo sin solucionar.\n",
    "</div>\n",
    "\n",
    "Cualquier comentario que quieras agregar entre iteraciones de revisión lo puedes hacer de la siguiente manera:\n",
    "\n",
    "<div class=\"alert alert-block alert-info\">\n",
    "<b>Respuesta estudiante.</b> <a class=\"tocSkip\"></a>\n",
    "</div>\n",
    "\n",
    "Mucho éxito en el proyecto!"
   ]
  },
  {
   "cell_type": "markdown",
   "metadata": {},
   "source": [
    "## Resumen de la revisión 1 <a class=\"tocSkip\"></a>"
   ]
  },
  {
   "cell_type": "markdown",
   "metadata": {},
   "source": [
    "<div class=\"alert alert-block alert-danger\">\n",
    "<b>r</b> <a class=\"tocSkip\"></a>\n",
    "\n",
    "\n",
    "\n",
    "    \n",
    "Saludos!    \n",
    "\n",
    "</div>"
   ]
  },
  {
   "cell_type": "markdown",
   "metadata": {},
   "source": [
    "<div class=\"alert alert-block alert-info\">\n",
    "<b>Muchas gracias por el feedback, reenvio con la correccion.</b> <a class=\"tocSkip\"></a>\n",
    "</div>"
   ]
  },
  {
   "cell_type": "markdown",
   "metadata": {},
   "source": [
    "## Resumen de la revisión 2 <a class=\"tocSkip\"></a>"
   ]
  },
  {
   "cell_type": "markdown",
   "metadata": {},
   "source": [
    "<div class=\"alert alert-block alert-success\">\n",
    "<b>Comentario de Revisor v</b> <a class=\"tocSkip\"></a>\n",
    "\n",
    "Bien hecho Roberto, has completado correctamente todo lo necesario del notebook. No tengo comentarios de corrección adicionales, está aprobado.\n",
    "\n",
    "Saludos!\n",
    "\n",
    "</div>"
   ]
  },
  {
   "cell_type": "markdown",
   "metadata": {},
   "source": [
    "---"
   ]
  },
  {
   "cell_type": "markdown",
   "metadata": {},
   "source": [
    "# A/B Test Analysis & Hypotheses\n",
    "\n",
    "## Descripción del proyecto\n",
    "\n",
    "Contexto\n",
    "Eres analista en una gran tienda online. Junto con el departamento de marketing has recopilado una lista de hipótesis que pueden ayudar a aumentar los ingresos.\n",
    "\n",
    "Tienes que priorizar estas hipótesis, lanzar un test A/B y analizar los resultados.\n",
    "\n"
   ]
  },
  {
   "cell_type": "code",
   "execution_count": 401,
   "metadata": {},
   "outputs": [],
   "source": [
    "import pandas as pd\n",
    "import numpy as np\n",
    "import matplotlib.pyplot as plt\n",
    "import seaborn as sns\n",
    "from scipy import stats\n",
    "from statsmodels.stats.proportion import proportions_ztest\n",
    "from datetime import timedelta\n",
    "sns.set_style('whitegrid')\n",
    "np.random.seed(42)"
   ]
  },
  {
   "cell_type": "code",
   "execution_count": 402,
   "metadata": {},
   "outputs": [],
   "source": [
    "# Cargar los datos\n",
    "hypotheses_df = pd.read_csv(\"/datasets/hypotheses_us.csv\", sep=\";\")\n",
    "orders_df = pd.read_csv(\"/datasets/orders_us.csv\")\n",
    "visits_df = pd.read_csv(\"/datasets/visits_us.csv\")"
   ]
  },
  {
   "cell_type": "markdown",
   "metadata": {},
   "source": [
    "<div class=\"alert alert-block alert-success\">\n",
    "<b>Comentario de Revisor</b> <a class=\"tocSkip\"></a>\n",
    "\n",
    "Correcto. Bien hecho al importar la data usando el parámetro `sep=;\"` para que la lectura de los datos se pueda realizar correctamente.\n",
    "    \n",
    "Si la data se hubiese leido sin ese parámetro, todas las columnas quedarían en una sola. En este caso, para esta data, la única columna hubiese sido `'Hypothesis;Reach;Impact;Confidence;Effort'`. Si el dataframe ya estuviese así importado, se puede corregir haciendo \n",
    "    \n",
    "    `df = df['Hypothesis;Reach;Impact;Confidence;Effort'].str.split(';', expand=True)`\n",
    "\n",
    "</div>"
   ]
  },
  {
   "cell_type": "code",
   "execution_count": 403,
   "metadata": {},
   "outputs": [
    {
     "name": "stdout",
     "output_type": "stream",
     "text": [
      "Hypotheses DataFrame:\n"
     ]
    },
    {
     "data": {
      "text/html": [
       "<div>\n",
       "<style scoped>\n",
       "    .dataframe tbody tr th:only-of-type {\n",
       "        vertical-align: middle;\n",
       "    }\n",
       "\n",
       "    .dataframe tbody tr th {\n",
       "        vertical-align: top;\n",
       "    }\n",
       "\n",
       "    .dataframe thead th {\n",
       "        text-align: right;\n",
       "    }\n",
       "</style>\n",
       "<table border=\"1\" class=\"dataframe\">\n",
       "  <thead>\n",
       "    <tr style=\"text-align: right;\">\n",
       "      <th></th>\n",
       "      <th>Hypothesis</th>\n",
       "      <th>Reach</th>\n",
       "      <th>Impact</th>\n",
       "      <th>Confidence</th>\n",
       "      <th>Effort</th>\n",
       "    </tr>\n",
       "  </thead>\n",
       "  <tbody>\n",
       "    <tr>\n",
       "      <th>0</th>\n",
       "      <td>Add two new channels for attracting traffic. T...</td>\n",
       "      <td>3</td>\n",
       "      <td>10</td>\n",
       "      <td>8</td>\n",
       "      <td>6</td>\n",
       "    </tr>\n",
       "    <tr>\n",
       "      <th>1</th>\n",
       "      <td>Launch your own delivery service. This will sh...</td>\n",
       "      <td>2</td>\n",
       "      <td>5</td>\n",
       "      <td>4</td>\n",
       "      <td>10</td>\n",
       "    </tr>\n",
       "    <tr>\n",
       "      <th>2</th>\n",
       "      <td>Add product recommendation blocks to the store...</td>\n",
       "      <td>8</td>\n",
       "      <td>3</td>\n",
       "      <td>7</td>\n",
       "      <td>3</td>\n",
       "    </tr>\n",
       "    <tr>\n",
       "      <th>3</th>\n",
       "      <td>Change the category structure. This will incre...</td>\n",
       "      <td>8</td>\n",
       "      <td>3</td>\n",
       "      <td>3</td>\n",
       "      <td>8</td>\n",
       "    </tr>\n",
       "    <tr>\n",
       "      <th>4</th>\n",
       "      <td>Change the background color on the main page. ...</td>\n",
       "      <td>3</td>\n",
       "      <td>1</td>\n",
       "      <td>1</td>\n",
       "      <td>1</td>\n",
       "    </tr>\n",
       "  </tbody>\n",
       "</table>\n",
       "</div>"
      ],
      "text/plain": [
       "                                          Hypothesis  Reach  Impact  \\\n",
       "0  Add two new channels for attracting traffic. T...      3      10   \n",
       "1  Launch your own delivery service. This will sh...      2       5   \n",
       "2  Add product recommendation blocks to the store...      8       3   \n",
       "3  Change the category structure. This will incre...      8       3   \n",
       "4  Change the background color on the main page. ...      3       1   \n",
       "\n",
       "   Confidence  Effort  \n",
       "0           8       6  \n",
       "1           4      10  \n",
       "2           7       3  \n",
       "3           3       8  \n",
       "4           1       1  "
      ]
     },
     "execution_count": 403,
     "metadata": {},
     "output_type": "execute_result"
    }
   ],
   "source": [
    "# Verificar las primeras filas de cada DataFrame\n",
    "print(\"Hypotheses DataFrame:\")\n",
    "hypotheses_df.head()"
   ]
  },
  {
   "cell_type": "code",
   "execution_count": 404,
   "metadata": {},
   "outputs": [
    {
     "name": "stdout",
     "output_type": "stream",
     "text": [
      "<class 'pandas.core.frame.DataFrame'>\n",
      "RangeIndex: 9 entries, 0 to 8\n",
      "Data columns (total 5 columns):\n",
      " #   Column      Non-Null Count  Dtype \n",
      "---  ------      --------------  ----- \n",
      " 0   Hypothesis  9 non-null      object\n",
      " 1   Reach       9 non-null      int64 \n",
      " 2   Impact      9 non-null      int64 \n",
      " 3   Confidence  9 non-null      int64 \n",
      " 4   Effort      9 non-null      int64 \n",
      "dtypes: int64(4), object(1)\n",
      "memory usage: 488.0+ bytes\n"
     ]
    }
   ],
   "source": [
    "hypotheses_df.info()"
   ]
  },
  {
   "cell_type": "code",
   "execution_count": 405,
   "metadata": {},
   "outputs": [
    {
     "name": "stdout",
     "output_type": "stream",
     "text": [
      "\n",
      "Visits DataFrame:\n"
     ]
    },
    {
     "data": {
      "text/html": [
       "<div>\n",
       "<style scoped>\n",
       "    .dataframe tbody tr th:only-of-type {\n",
       "        vertical-align: middle;\n",
       "    }\n",
       "\n",
       "    .dataframe tbody tr th {\n",
       "        vertical-align: top;\n",
       "    }\n",
       "\n",
       "    .dataframe thead th {\n",
       "        text-align: right;\n",
       "    }\n",
       "</style>\n",
       "<table border=\"1\" class=\"dataframe\">\n",
       "  <thead>\n",
       "    <tr style=\"text-align: right;\">\n",
       "      <th></th>\n",
       "      <th>date</th>\n",
       "      <th>group</th>\n",
       "      <th>visits</th>\n",
       "    </tr>\n",
       "  </thead>\n",
       "  <tbody>\n",
       "    <tr>\n",
       "      <th>0</th>\n",
       "      <td>2019-08-01</td>\n",
       "      <td>A</td>\n",
       "      <td>719</td>\n",
       "    </tr>\n",
       "    <tr>\n",
       "      <th>1</th>\n",
       "      <td>2019-08-02</td>\n",
       "      <td>A</td>\n",
       "      <td>619</td>\n",
       "    </tr>\n",
       "    <tr>\n",
       "      <th>2</th>\n",
       "      <td>2019-08-03</td>\n",
       "      <td>A</td>\n",
       "      <td>507</td>\n",
       "    </tr>\n",
       "    <tr>\n",
       "      <th>3</th>\n",
       "      <td>2019-08-04</td>\n",
       "      <td>A</td>\n",
       "      <td>717</td>\n",
       "    </tr>\n",
       "    <tr>\n",
       "      <th>4</th>\n",
       "      <td>2019-08-05</td>\n",
       "      <td>A</td>\n",
       "      <td>756</td>\n",
       "    </tr>\n",
       "  </tbody>\n",
       "</table>\n",
       "</div>"
      ],
      "text/plain": [
       "         date group  visits\n",
       "0  2019-08-01     A     719\n",
       "1  2019-08-02     A     619\n",
       "2  2019-08-03     A     507\n",
       "3  2019-08-04     A     717\n",
       "4  2019-08-05     A     756"
      ]
     },
     "execution_count": 405,
     "metadata": {},
     "output_type": "execute_result"
    }
   ],
   "source": [
    "print(\"\\nVisits DataFrame:\")\n",
    "visits_df.head()"
   ]
  },
  {
   "cell_type": "code",
   "execution_count": 406,
   "metadata": {},
   "outputs": [
    {
     "name": "stdout",
     "output_type": "stream",
     "text": [
      "<class 'pandas.core.frame.DataFrame'>\n",
      "RangeIndex: 62 entries, 0 to 61\n",
      "Data columns (total 3 columns):\n",
      " #   Column  Non-Null Count  Dtype \n",
      "---  ------  --------------  ----- \n",
      " 0   date    62 non-null     object\n",
      " 1   group   62 non-null     object\n",
      " 2   visits  62 non-null     int64 \n",
      "dtypes: int64(1), object(2)\n",
      "memory usage: 1.6+ KB\n"
     ]
    }
   ],
   "source": [
    "visits_df.info()"
   ]
  },
  {
   "cell_type": "code",
   "execution_count": 407,
   "metadata": {},
   "outputs": [
    {
     "name": "stdout",
     "output_type": "stream",
     "text": [
      "Duplicados en visits: 0\n"
     ]
    }
   ],
   "source": [
    "print(\"Duplicados en visits:\", visits_df.duplicated().sum())"
   ]
  },
  {
   "cell_type": "code",
   "execution_count": 408,
   "metadata": {},
   "outputs": [
    {
     "name": "stdout",
     "output_type": "stream",
     "text": [
      "<class 'pandas.core.frame.DataFrame'>\n",
      "RangeIndex: 62 entries, 0 to 61\n",
      "Data columns (total 3 columns):\n",
      " #   Column  Non-Null Count  Dtype         \n",
      "---  ------  --------------  -----         \n",
      " 0   date    62 non-null     datetime64[ns]\n",
      " 1   group   62 non-null     object        \n",
      " 2   visits  62 non-null     int64         \n",
      "dtypes: datetime64[ns](1), int64(1), object(1)\n",
      "memory usage: 1.6+ KB\n",
      "None\n"
     ]
    },
    {
     "data": {
      "text/html": [
       "<div>\n",
       "<style scoped>\n",
       "    .dataframe tbody tr th:only-of-type {\n",
       "        vertical-align: middle;\n",
       "    }\n",
       "\n",
       "    .dataframe tbody tr th {\n",
       "        vertical-align: top;\n",
       "    }\n",
       "\n",
       "    .dataframe thead th {\n",
       "        text-align: right;\n",
       "    }\n",
       "</style>\n",
       "<table border=\"1\" class=\"dataframe\">\n",
       "  <thead>\n",
       "    <tr style=\"text-align: right;\">\n",
       "      <th></th>\n",
       "      <th>date</th>\n",
       "      <th>group</th>\n",
       "      <th>visits</th>\n",
       "    </tr>\n",
       "  </thead>\n",
       "  <tbody>\n",
       "    <tr>\n",
       "      <th>0</th>\n",
       "      <td>2019-08-01</td>\n",
       "      <td>A</td>\n",
       "      <td>719</td>\n",
       "    </tr>\n",
       "    <tr>\n",
       "      <th>1</th>\n",
       "      <td>2019-08-02</td>\n",
       "      <td>A</td>\n",
       "      <td>619</td>\n",
       "    </tr>\n",
       "    <tr>\n",
       "      <th>2</th>\n",
       "      <td>2019-08-03</td>\n",
       "      <td>A</td>\n",
       "      <td>507</td>\n",
       "    </tr>\n",
       "    <tr>\n",
       "      <th>3</th>\n",
       "      <td>2019-08-04</td>\n",
       "      <td>A</td>\n",
       "      <td>717</td>\n",
       "    </tr>\n",
       "    <tr>\n",
       "      <th>4</th>\n",
       "      <td>2019-08-05</td>\n",
       "      <td>A</td>\n",
       "      <td>756</td>\n",
       "    </tr>\n",
       "  </tbody>\n",
       "</table>\n",
       "</div>"
      ],
      "text/plain": [
       "        date group  visits\n",
       "0 2019-08-01     A     719\n",
       "1 2019-08-02     A     619\n",
       "2 2019-08-03     A     507\n",
       "3 2019-08-04     A     717\n",
       "4 2019-08-05     A     756"
      ]
     },
     "execution_count": 408,
     "metadata": {},
     "output_type": "execute_result"
    }
   ],
   "source": [
    "# Convertir la columna 'date' a formato datetime\n",
    "visits_df['date'] = pd.to_datetime(visits_df['date'])\n",
    "\n",
    "# Verificar el cambio\n",
    "print(visits_df.info())\n",
    "visits_df.head()"
   ]
  },
  {
   "cell_type": "code",
   "execution_count": 409,
   "metadata": {},
   "outputs": [
    {
     "name": "stdout",
     "output_type": "stream",
     "text": [
      "\n",
      "Orders DataFrame:\n"
     ]
    },
    {
     "data": {
      "text/html": [
       "<div>\n",
       "<style scoped>\n",
       "    .dataframe tbody tr th:only-of-type {\n",
       "        vertical-align: middle;\n",
       "    }\n",
       "\n",
       "    .dataframe tbody tr th {\n",
       "        vertical-align: top;\n",
       "    }\n",
       "\n",
       "    .dataframe thead th {\n",
       "        text-align: right;\n",
       "    }\n",
       "</style>\n",
       "<table border=\"1\" class=\"dataframe\">\n",
       "  <thead>\n",
       "    <tr style=\"text-align: right;\">\n",
       "      <th></th>\n",
       "      <th>transactionId</th>\n",
       "      <th>visitorId</th>\n",
       "      <th>date</th>\n",
       "      <th>revenue</th>\n",
       "      <th>group</th>\n",
       "    </tr>\n",
       "  </thead>\n",
       "  <tbody>\n",
       "    <tr>\n",
       "      <th>0</th>\n",
       "      <td>3667963787</td>\n",
       "      <td>3312258926</td>\n",
       "      <td>2019-08-15</td>\n",
       "      <td>30.4</td>\n",
       "      <td>B</td>\n",
       "    </tr>\n",
       "    <tr>\n",
       "      <th>1</th>\n",
       "      <td>2804400009</td>\n",
       "      <td>3642806036</td>\n",
       "      <td>2019-08-15</td>\n",
       "      <td>15.2</td>\n",
       "      <td>B</td>\n",
       "    </tr>\n",
       "    <tr>\n",
       "      <th>2</th>\n",
       "      <td>2961555356</td>\n",
       "      <td>4069496402</td>\n",
       "      <td>2019-08-15</td>\n",
       "      <td>10.2</td>\n",
       "      <td>A</td>\n",
       "    </tr>\n",
       "    <tr>\n",
       "      <th>3</th>\n",
       "      <td>3797467345</td>\n",
       "      <td>1196621759</td>\n",
       "      <td>2019-08-15</td>\n",
       "      <td>155.1</td>\n",
       "      <td>B</td>\n",
       "    </tr>\n",
       "    <tr>\n",
       "      <th>4</th>\n",
       "      <td>2282983706</td>\n",
       "      <td>2322279887</td>\n",
       "      <td>2019-08-15</td>\n",
       "      <td>40.5</td>\n",
       "      <td>B</td>\n",
       "    </tr>\n",
       "  </tbody>\n",
       "</table>\n",
       "</div>"
      ],
      "text/plain": [
       "   transactionId   visitorId        date  revenue group\n",
       "0     3667963787  3312258926  2019-08-15     30.4     B\n",
       "1     2804400009  3642806036  2019-08-15     15.2     B\n",
       "2     2961555356  4069496402  2019-08-15     10.2     A\n",
       "3     3797467345  1196621759  2019-08-15    155.1     B\n",
       "4     2282983706  2322279887  2019-08-15     40.5     B"
      ]
     },
     "execution_count": 409,
     "metadata": {},
     "output_type": "execute_result"
    }
   ],
   "source": [
    "print(\"\\nOrders DataFrame:\")\n",
    "orders_df.head()"
   ]
  },
  {
   "cell_type": "code",
   "execution_count": 410,
   "metadata": {},
   "outputs": [
    {
     "name": "stdout",
     "output_type": "stream",
     "text": [
      "<class 'pandas.core.frame.DataFrame'>\n",
      "RangeIndex: 1197 entries, 0 to 1196\n",
      "Data columns (total 5 columns):\n",
      " #   Column         Non-Null Count  Dtype  \n",
      "---  ------         --------------  -----  \n",
      " 0   transactionId  1197 non-null   int64  \n",
      " 1   visitorId      1197 non-null   int64  \n",
      " 2   date           1197 non-null   object \n",
      " 3   revenue        1197 non-null   float64\n",
      " 4   group          1197 non-null   object \n",
      "dtypes: float64(1), int64(2), object(2)\n",
      "memory usage: 46.9+ KB\n"
     ]
    }
   ],
   "source": [
    "orders_df.info()"
   ]
  },
  {
   "cell_type": "code",
   "execution_count": 411,
   "metadata": {},
   "outputs": [
    {
     "name": "stdout",
     "output_type": "stream",
     "text": [
      "<class 'pandas.core.frame.DataFrame'>\n",
      "RangeIndex: 1197 entries, 0 to 1196\n",
      "Data columns (total 5 columns):\n",
      " #   Column         Non-Null Count  Dtype         \n",
      "---  ------         --------------  -----         \n",
      " 0   transactionId  1197 non-null   int64         \n",
      " 1   visitorId      1197 non-null   int64         \n",
      " 2   date           1197 non-null   datetime64[ns]\n",
      " 3   revenue        1197 non-null   float64       \n",
      " 4   group          1197 non-null   object        \n",
      "dtypes: datetime64[ns](1), float64(1), int64(2), object(1)\n",
      "memory usage: 46.9+ KB\n",
      "None\n"
     ]
    }
   ],
   "source": [
    "# Convertir la columna 'date' a formato datetime\n",
    "orders_df['date'] = pd.to_datetime(orders_df['date'])\n",
    "\n",
    "# Verificar el cambio\n",
    "print(orders_df.info())\n"
   ]
  },
  {
   "cell_type": "markdown",
   "metadata": {},
   "source": [
    "<div class=\"alert alert-block alert-success\">\n",
    "<b>Comentario de Revisor</b> <a class=\"tocSkip\"></a>\n",
    "\n",
    "Bien con la revisión inicial de la data.\n",
    "\n",
    "</div>"
   ]
  },
  {
   "cell_type": "markdown",
   "metadata": {},
   "source": [
    "### Parte 1. Priorizar hipótesis "
   ]
  },
  {
   "cell_type": "code",
   "execution_count": 412,
   "metadata": {},
   "outputs": [
    {
     "data": {
      "text/html": [
       "<div>\n",
       "<style scoped>\n",
       "    .dataframe tbody tr th:only-of-type {\n",
       "        vertical-align: middle;\n",
       "    }\n",
       "\n",
       "    .dataframe tbody tr th {\n",
       "        vertical-align: top;\n",
       "    }\n",
       "\n",
       "    .dataframe thead th {\n",
       "        text-align: right;\n",
       "    }\n",
       "</style>\n",
       "<table border=\"1\" class=\"dataframe\">\n",
       "  <thead>\n",
       "    <tr style=\"text-align: right;\">\n",
       "      <th></th>\n",
       "      <th>Hypothesis</th>\n",
       "      <th>Reach</th>\n",
       "      <th>Impact</th>\n",
       "      <th>Confidence</th>\n",
       "      <th>Effort</th>\n",
       "    </tr>\n",
       "  </thead>\n",
       "  <tbody>\n",
       "    <tr>\n",
       "      <th>0</th>\n",
       "      <td>Add two new channels for attracting traffic. T...</td>\n",
       "      <td>3</td>\n",
       "      <td>10</td>\n",
       "      <td>8</td>\n",
       "      <td>6</td>\n",
       "    </tr>\n",
       "    <tr>\n",
       "      <th>1</th>\n",
       "      <td>Launch your own delivery service. This will sh...</td>\n",
       "      <td>2</td>\n",
       "      <td>5</td>\n",
       "      <td>4</td>\n",
       "      <td>10</td>\n",
       "    </tr>\n",
       "    <tr>\n",
       "      <th>2</th>\n",
       "      <td>Add product recommendation blocks to the store...</td>\n",
       "      <td>8</td>\n",
       "      <td>3</td>\n",
       "      <td>7</td>\n",
       "      <td>3</td>\n",
       "    </tr>\n",
       "    <tr>\n",
       "      <th>3</th>\n",
       "      <td>Change the category structure. This will incre...</td>\n",
       "      <td>8</td>\n",
       "      <td>3</td>\n",
       "      <td>3</td>\n",
       "      <td>8</td>\n",
       "    </tr>\n",
       "    <tr>\n",
       "      <th>4</th>\n",
       "      <td>Change the background color on the main page. ...</td>\n",
       "      <td>3</td>\n",
       "      <td>1</td>\n",
       "      <td>1</td>\n",
       "      <td>1</td>\n",
       "    </tr>\n",
       "  </tbody>\n",
       "</table>\n",
       "</div>"
      ],
      "text/plain": [
       "                                          Hypothesis  Reach  Impact  \\\n",
       "0  Add two new channels for attracting traffic. T...      3      10   \n",
       "1  Launch your own delivery service. This will sh...      2       5   \n",
       "2  Add product recommendation blocks to the store...      8       3   \n",
       "3  Change the category structure. This will incre...      8       3   \n",
       "4  Change the background color on the main page. ...      3       1   \n",
       "\n",
       "   Confidence  Effort  \n",
       "0           8       6  \n",
       "1           4      10  \n",
       "2           7       3  \n",
       "3           3       8  \n",
       "4           1       1  "
      ]
     },
     "execution_count": 412,
     "metadata": {},
     "output_type": "execute_result"
    }
   ],
   "source": [
    "hypotheses_df.head()"
   ]
  },
  {
   "cell_type": "code",
   "execution_count": 413,
   "metadata": {},
   "outputs": [],
   "source": [
    "# Cálculo de ICE y RICE\n",
    "hypotheses_df['ICE'] = (hypotheses_df['Impact'] * hypotheses_df['Confidence']) / hypotheses_df['Effort']\n",
    "\n",
    "hypotheses_df['RICE'] = (\n",
    "    hypotheses_df['Reach'] * hypotheses_df['Impact'] * hypotheses_df['Confidence']\n",
    ") / hypotheses_df['Effort']"
   ]
  },
  {
   "cell_type": "code",
   "execution_count": 414,
   "metadata": {},
   "outputs": [
    {
     "data": {
      "text/html": [
       "<div>\n",
       "<style scoped>\n",
       "    .dataframe tbody tr th:only-of-type {\n",
       "        vertical-align: middle;\n",
       "    }\n",
       "\n",
       "    .dataframe tbody tr th {\n",
       "        vertical-align: top;\n",
       "    }\n",
       "\n",
       "    .dataframe thead th {\n",
       "        text-align: right;\n",
       "    }\n",
       "</style>\n",
       "<table border=\"1\" class=\"dataframe\">\n",
       "  <thead>\n",
       "    <tr style=\"text-align: right;\">\n",
       "      <th></th>\n",
       "      <th>Hypothesis</th>\n",
       "      <th>Reach</th>\n",
       "      <th>Impact</th>\n",
       "      <th>Confidence</th>\n",
       "      <th>Effort</th>\n",
       "      <th>ICE</th>\n",
       "      <th>RICE</th>\n",
       "    </tr>\n",
       "  </thead>\n",
       "  <tbody>\n",
       "    <tr>\n",
       "      <th>0</th>\n",
       "      <td>Add two new channels for attracting traffic. T...</td>\n",
       "      <td>3</td>\n",
       "      <td>10</td>\n",
       "      <td>8</td>\n",
       "      <td>6</td>\n",
       "      <td>13.333333</td>\n",
       "      <td>40.0</td>\n",
       "    </tr>\n",
       "    <tr>\n",
       "      <th>1</th>\n",
       "      <td>Launch your own delivery service. This will sh...</td>\n",
       "      <td>2</td>\n",
       "      <td>5</td>\n",
       "      <td>4</td>\n",
       "      <td>10</td>\n",
       "      <td>2.000000</td>\n",
       "      <td>4.0</td>\n",
       "    </tr>\n",
       "    <tr>\n",
       "      <th>2</th>\n",
       "      <td>Add product recommendation blocks to the store...</td>\n",
       "      <td>8</td>\n",
       "      <td>3</td>\n",
       "      <td>7</td>\n",
       "      <td>3</td>\n",
       "      <td>7.000000</td>\n",
       "      <td>56.0</td>\n",
       "    </tr>\n",
       "    <tr>\n",
       "      <th>3</th>\n",
       "      <td>Change the category structure. This will incre...</td>\n",
       "      <td>8</td>\n",
       "      <td>3</td>\n",
       "      <td>3</td>\n",
       "      <td>8</td>\n",
       "      <td>1.125000</td>\n",
       "      <td>9.0</td>\n",
       "    </tr>\n",
       "    <tr>\n",
       "      <th>4</th>\n",
       "      <td>Change the background color on the main page. ...</td>\n",
       "      <td>3</td>\n",
       "      <td>1</td>\n",
       "      <td>1</td>\n",
       "      <td>1</td>\n",
       "      <td>1.000000</td>\n",
       "      <td>3.0</td>\n",
       "    </tr>\n",
       "  </tbody>\n",
       "</table>\n",
       "</div>"
      ],
      "text/plain": [
       "                                          Hypothesis  Reach  Impact  \\\n",
       "0  Add two new channels for attracting traffic. T...      3      10   \n",
       "1  Launch your own delivery service. This will sh...      2       5   \n",
       "2  Add product recommendation blocks to the store...      8       3   \n",
       "3  Change the category structure. This will incre...      8       3   \n",
       "4  Change the background color on the main page. ...      3       1   \n",
       "\n",
       "   Confidence  Effort        ICE  RICE  \n",
       "0           8       6  13.333333  40.0  \n",
       "1           4      10   2.000000   4.0  \n",
       "2           7       3   7.000000  56.0  \n",
       "3           3       8   1.125000   9.0  \n",
       "4           1       1   1.000000   3.0  "
      ]
     },
     "execution_count": 414,
     "metadata": {},
     "output_type": "execute_result"
    }
   ],
   "source": [
    "hypotheses_df.head()"
   ]
  },
  {
   "cell_type": "markdown",
   "metadata": {},
   "source": [
    "Ordenarlas en orden descendente de prioridad."
   ]
  },
  {
   "cell_type": "code",
   "execution_count": 415,
   "metadata": {},
   "outputs": [
    {
     "data": {
      "text/html": [
       "<div>\n",
       "<style scoped>\n",
       "    .dataframe tbody tr th:only-of-type {\n",
       "        vertical-align: middle;\n",
       "    }\n",
       "\n",
       "    .dataframe tbody tr th {\n",
       "        vertical-align: top;\n",
       "    }\n",
       "\n",
       "    .dataframe thead th {\n",
       "        text-align: right;\n",
       "    }\n",
       "</style>\n",
       "<table border=\"1\" class=\"dataframe\">\n",
       "  <thead>\n",
       "    <tr style=\"text-align: right;\">\n",
       "      <th></th>\n",
       "      <th>Hypothesis</th>\n",
       "      <th>ICE</th>\n",
       "    </tr>\n",
       "  </thead>\n",
       "  <tbody>\n",
       "    <tr>\n",
       "      <th>0</th>\n",
       "      <td>Launch a promotion that gives users discounts ...</td>\n",
       "      <td>16.200000</td>\n",
       "    </tr>\n",
       "    <tr>\n",
       "      <th>1</th>\n",
       "      <td>Add two new channels for attracting traffic. T...</td>\n",
       "      <td>13.333333</td>\n",
       "    </tr>\n",
       "    <tr>\n",
       "      <th>2</th>\n",
       "      <td>Add a subscription form to all the main pages....</td>\n",
       "      <td>11.200000</td>\n",
       "    </tr>\n",
       "    <tr>\n",
       "      <th>3</th>\n",
       "      <td>Show banners with current offers and sales on ...</td>\n",
       "      <td>8.000000</td>\n",
       "    </tr>\n",
       "    <tr>\n",
       "      <th>4</th>\n",
       "      <td>Add product recommendation blocks to the store...</td>\n",
       "      <td>7.000000</td>\n",
       "    </tr>\n",
       "    <tr>\n",
       "      <th>5</th>\n",
       "      <td>Launch your own delivery service. This will sh...</td>\n",
       "      <td>2.000000</td>\n",
       "    </tr>\n",
       "    <tr>\n",
       "      <th>6</th>\n",
       "      <td>Add a customer review page. This will increase...</td>\n",
       "      <td>1.333333</td>\n",
       "    </tr>\n",
       "    <tr>\n",
       "      <th>7</th>\n",
       "      <td>Change the category structure. This will incre...</td>\n",
       "      <td>1.125000</td>\n",
       "    </tr>\n",
       "    <tr>\n",
       "      <th>8</th>\n",
       "      <td>Change the background color on the main page. ...</td>\n",
       "      <td>1.000000</td>\n",
       "    </tr>\n",
       "  </tbody>\n",
       "</table>\n",
       "</div>"
      ],
      "text/plain": [
       "                                          Hypothesis        ICE\n",
       "0  Launch a promotion that gives users discounts ...  16.200000\n",
       "1  Add two new channels for attracting traffic. T...  13.333333\n",
       "2  Add a subscription form to all the main pages....  11.200000\n",
       "3  Show banners with current offers and sales on ...   8.000000\n",
       "4  Add product recommendation blocks to the store...   7.000000\n",
       "5  Launch your own delivery service. This will sh...   2.000000\n",
       "6  Add a customer review page. This will increase...   1.333333\n",
       "7  Change the category structure. This will incre...   1.125000\n",
       "8  Change the background color on the main page. ...   1.000000"
      ]
     },
     "metadata": {},
     "output_type": "display_data"
    },
    {
     "data": {
      "text/html": [
       "<div>\n",
       "<style scoped>\n",
       "    .dataframe tbody tr th:only-of-type {\n",
       "        vertical-align: middle;\n",
       "    }\n",
       "\n",
       "    .dataframe tbody tr th {\n",
       "        vertical-align: top;\n",
       "    }\n",
       "\n",
       "    .dataframe thead th {\n",
       "        text-align: right;\n",
       "    }\n",
       "</style>\n",
       "<table border=\"1\" class=\"dataframe\">\n",
       "  <thead>\n",
       "    <tr style=\"text-align: right;\">\n",
       "      <th></th>\n",
       "      <th>Hypothesis</th>\n",
       "      <th>RICE</th>\n",
       "    </tr>\n",
       "  </thead>\n",
       "  <tbody>\n",
       "    <tr>\n",
       "      <th>0</th>\n",
       "      <td>Add a subscription form to all the main pages....</td>\n",
       "      <td>112.0</td>\n",
       "    </tr>\n",
       "    <tr>\n",
       "      <th>1</th>\n",
       "      <td>Add product recommendation blocks to the store...</td>\n",
       "      <td>56.0</td>\n",
       "    </tr>\n",
       "    <tr>\n",
       "      <th>2</th>\n",
       "      <td>Add two new channels for attracting traffic. T...</td>\n",
       "      <td>40.0</td>\n",
       "    </tr>\n",
       "    <tr>\n",
       "      <th>3</th>\n",
       "      <td>Show banners with current offers and sales on ...</td>\n",
       "      <td>40.0</td>\n",
       "    </tr>\n",
       "    <tr>\n",
       "      <th>4</th>\n",
       "      <td>Launch a promotion that gives users discounts ...</td>\n",
       "      <td>16.2</td>\n",
       "    </tr>\n",
       "    <tr>\n",
       "      <th>5</th>\n",
       "      <td>Change the category structure. This will incre...</td>\n",
       "      <td>9.0</td>\n",
       "    </tr>\n",
       "    <tr>\n",
       "      <th>6</th>\n",
       "      <td>Launch your own delivery service. This will sh...</td>\n",
       "      <td>4.0</td>\n",
       "    </tr>\n",
       "    <tr>\n",
       "      <th>7</th>\n",
       "      <td>Add a customer review page. This will increase...</td>\n",
       "      <td>4.0</td>\n",
       "    </tr>\n",
       "    <tr>\n",
       "      <th>8</th>\n",
       "      <td>Change the background color on the main page. ...</td>\n",
       "      <td>3.0</td>\n",
       "    </tr>\n",
       "  </tbody>\n",
       "</table>\n",
       "</div>"
      ],
      "text/plain": [
       "                                          Hypothesis   RICE\n",
       "0  Add a subscription form to all the main pages....  112.0\n",
       "1  Add product recommendation blocks to the store...   56.0\n",
       "2  Add two new channels for attracting traffic. T...   40.0\n",
       "3  Show banners with current offers and sales on ...   40.0\n",
       "4  Launch a promotion that gives users discounts ...   16.2\n",
       "5  Change the category structure. This will incre...    9.0\n",
       "6  Launch your own delivery service. This will sh...    4.0\n",
       "7  Add a customer review page. This will increase...    4.0\n",
       "8  Change the background color on the main page. ...    3.0"
      ]
     },
     "metadata": {},
     "output_type": "display_data"
    }
   ],
   "source": [
    "# orden descendente de prioridad.\n",
    "ice_rank = hypotheses_df.sort_values(by='ICE', ascending=False)\n",
    "rice_rank = hypotheses_df.sort_values(by='RICE', ascending=False)\n",
    "\n",
    "display(ice_rank[['Hypothesis', 'ICE']].reset_index(drop=True))\n",
    "display(rice_rank[['Hypothesis', 'RICE']].reset_index(drop=True))"
   ]
  },
  {
   "cell_type": "code",
   "execution_count": 416,
   "metadata": {},
   "outputs": [
    {
     "data": {
      "text/html": [
       "<div>\n",
       "<style scoped>\n",
       "    .dataframe tbody tr th:only-of-type {\n",
       "        vertical-align: middle;\n",
       "    }\n",
       "\n",
       "    .dataframe tbody tr th {\n",
       "        vertical-align: top;\n",
       "    }\n",
       "\n",
       "    .dataframe thead th {\n",
       "        text-align: right;\n",
       "    }\n",
       "</style>\n",
       "<table border=\"1\" class=\"dataframe\">\n",
       "  <thead>\n",
       "    <tr style=\"text-align: right;\">\n",
       "      <th></th>\n",
       "      <th>Hypothesis</th>\n",
       "      <th>ICE Score</th>\n",
       "      <th>RICE Score</th>\n",
       "    </tr>\n",
       "  </thead>\n",
       "  <tbody>\n",
       "    <tr>\n",
       "      <th>0</th>\n",
       "      <td>Launch a promotion that gives users discounts ...</td>\n",
       "      <td>16.200000</td>\n",
       "      <td>16.2</td>\n",
       "    </tr>\n",
       "    <tr>\n",
       "      <th>1</th>\n",
       "      <td>Add two new channels for attracting traffic. T...</td>\n",
       "      <td>13.333333</td>\n",
       "      <td>40.0</td>\n",
       "    </tr>\n",
       "    <tr>\n",
       "      <th>2</th>\n",
       "      <td>Add a subscription form to all the main pages....</td>\n",
       "      <td>11.200000</td>\n",
       "      <td>112.0</td>\n",
       "    </tr>\n",
       "    <tr>\n",
       "      <th>3</th>\n",
       "      <td>Show banners with current offers and sales on ...</td>\n",
       "      <td>8.000000</td>\n",
       "      <td>40.0</td>\n",
       "    </tr>\n",
       "    <tr>\n",
       "      <th>4</th>\n",
       "      <td>Add product recommendation blocks to the store...</td>\n",
       "      <td>7.000000</td>\n",
       "      <td>56.0</td>\n",
       "    </tr>\n",
       "  </tbody>\n",
       "</table>\n",
       "</div>"
      ],
      "text/plain": [
       "                                          Hypothesis  ICE Score  RICE Score\n",
       "0  Launch a promotion that gives users discounts ...  16.200000        16.2\n",
       "1  Add two new channels for attracting traffic. T...  13.333333        40.0\n",
       "2  Add a subscription form to all the main pages....  11.200000       112.0\n",
       "3  Show banners with current offers and sales on ...   8.000000        40.0\n",
       "4  Add product recommendation blocks to the store...   7.000000        56.0"
      ]
     },
     "execution_count": 416,
     "metadata": {},
     "output_type": "execute_result"
    }
   ],
   "source": [
    "\n",
    "# Calcular puntajes\n",
    "hypotheses_df['ICE Score'] = (hypotheses_df['Impact'] * hypotheses_df['Confidence']) / hypotheses_df['Effort']\n",
    "hypotheses_df['RICE Score'] = (hypotheses_df['Reach'] * hypotheses_df['Impact'] * hypotheses_df['Confidence']) / hypotheses_df['Effort']\n",
    "\n",
    "# Ordenar hipótesis según ambos métodos\n",
    "ice_order = hypotheses_df.sort_values(by='ICE Score', ascending=False)[['Hypothesis', 'ICE Score']]\n",
    "rice_order = hypotheses_df.sort_values(by='RICE Score', ascending=False)[['Hypothesis', 'RICE Score']]\n",
    "\n",
    "# Fusionar los resultados en una sola tabla\n",
    "comparison_df = ice_order.merge(rice_order, on='Hypothesis', how='inner')\n",
    "\n",
    "# Mostrar la comparación\n",
    "comparison_df.head()"
   ]
  },
  {
   "cell_type": "code",
   "execution_count": 417,
   "metadata": {},
   "outputs": [
    {
     "data": {
      "image/png": "[encoded data removed]",
      "text/plain": [
       "<Figure size 1000x600 with 1 Axes>"
      ]
     },
     "metadata": {},
     "output_type": "display_data"
    }
   ],
   "source": [
    "# Crear gráfico de barras\n",
    "plt.figure(figsize=(10, 6))\n",
    "plt.barh(hypotheses_df['Hypothesis'], hypotheses_df['ICE Score'], label='ICE Score', alpha=0.7)\n",
    "plt.barh(hypotheses_df['Hypothesis'], hypotheses_df['RICE Score'], label='RICE Score', alpha=0.7)\n",
    "\n",
    "# Configuración del gráfico\n",
    "plt.xlabel('Score')\n",
    "plt.ylabel('Hypothesis')\n",
    "plt.title('Comparación de ICE vs. RICE Score')\n",
    "plt.legend()\n",
    "plt.gca().invert_yaxis()  # Invertir el eje Y para que la mejor hipótesis esté arriba\n",
    "plt.show()"
   ]
  },
  {
   "cell_type": "markdown",
   "metadata": {},
   "source": [
    "Explicación del gráfico\n",
    "Se mostrarán las hipótesis en el eje Y, ordenadas por RICE Score.\n",
    "\n",
    "ICE Score y RICE Score estarán representados como barras de diferentes colores.\n",
    "\n",
    "Se podrá observar cómo algunas hipótesis ganan prioridad en RICE debido al Reach, mientras que otras pueden perder relevancia.\n",
    "\n",
    "podemos identificar cómo el factor Reach influye en RICE. Las hipótesis con alto alcance tienden a subir posiciones en RICE, mientras que ICE favorece ideas con combinación de alto impact y confianza frente a menor esfuerzo.\n",
    "Vemos que la fuerza esye en Rice Score \n"
   ]
  },
  {
   "cell_type": "markdown",
   "metadata": {},
   "source": [
    "<div class=\"alert alert-block alert-success\">\n",
    "<b>Comentario de Revisor</b> <a class=\"tocSkip\"></a>\n",
    "\n",
    "Bien hecho con el cálculo de ambas métricas y su comparación con el gráfico\n",
    "\n",
    "</div>"
   ]
  },
  {
   "cell_type": "markdown",
   "metadata": {},
   "source": [
    "### Parte 2. Análisis del test A/B\n",
    "2.1 Realizaste una prueba A/B y obtuviste los resultados descritos en los archivos orders_us.csv y visits_us.csv."
   ]
  },
  {
   "cell_type": "markdown",
   "metadata": {},
   "source": [
    "<div class=\"alert alert-block alert-danger\">\n",
    "<b>Comentario de Revisor</b> <a class=\"tocSkip\"></a>\n",
    "\n",
    "Antes de continuar con los análisis, revisa si existen usuarios duplicados entre grupos, es decir, que estén en ambos grupos. Si existen, muestra cuántos son y luego remuevelos, ya que es importante que no se repitan para realizar el test A/B de forma adecuada.\n",
    "</div>"
   ]
  },
  {
   "cell_type": "markdown",
   "metadata": {},
   "source": [
    "<div class=\"alert alert-block alert-info\">\n",
    "<b>Aqui se eliminaron los usuarios presentes en ambos grupos(Duplicados).</b> <a class=\"tocSkip\"></a>\n",
    "</div>"
   ]
  },
  {
   "cell_type": "code",
   "execution_count": 418,
   "metadata": {},
   "outputs": [
    {
     "name": "stdout",
     "output_type": "stream",
     "text": [
      "Usuarios duplicados entre grupos: 58\n"
     ]
    }
   ],
   "source": [
    "# Ver usuarios duplicados entre grupos A y B\n",
    "duplicated_users = orders_df.groupby('visitorId')['group'].nunique()\n",
    "duplicated_users = duplicated_users[duplicated_users > 1]  # Filtrar usuarios que aparecen en más de un grupo\n",
    "\n",
    "print(f\"Usuarios duplicados entre grupos: {duplicated_users.shape[0]}\")"
   ]
  },
  {
   "cell_type": "code",
   "execution_count": 419,
   "metadata": {},
   "outputs": [],
   "source": [
    "grupo_usuario = orders_df.groupby('visitorId')['group'].nunique().reset_index()\n",
    "\n",
    "duplicados = grupo_usuario[grupo_usuario['group'] > 1]['visitorId']\n",
    "orders_df = orders_df[~orders_df['visitorId'].isin(duplicados)]"
   ]
  },
  {
   "cell_type": "markdown",
   "metadata": {},
   "source": [
    "<div class=\"alert alert-block alert-success\">\n",
    "<b>Comentario de Revisor v2</b> <a class=\"tocSkip\"></a>\n",
    "\n",
    "Bien hecho, correcto!\n",
    "\n",
    "</div>"
   ]
  },
  {
   "cell_type": "code",
   "execution_count": 420,
   "metadata": {},
   "outputs": [],
   "source": [
    "orders_per_user = orders_df.groupby('visitorId').agg({'transactionId':'nunique'}).reset_index()\n",
    "orders_per_user.rename(columns={'transactionId':'orders'}, inplace=True)\n"
   ]
  },
  {
   "cell_type": "code",
   "execution_count": 421,
   "metadata": {},
   "outputs": [],
   "source": [
    "# Extraer usuarios con pedidos anómalos\n",
    "q99_orders = np.percentile(orders_per_user['orders'], 99)\n",
    "q99_rev = np.percentile(orders_df['revenue'], 99)\n",
    "orders_threshold = q99_orders\n",
    "revenue_threshold = q99_rev"
   ]
  },
  {
   "cell_type": "code",
   "execution_count": 422,
   "metadata": {},
   "outputs": [],
   "source": [
    "abnormal_users = orders_per_user[orders_per_user['orders'] > orders_threshold]['visitorId']\n",
    "filtered_orders = orders_df[~orders_df['visitorId'].isin(abnormal_users) & (orders_df['revenue'] <= revenue_threshold)]"
   ]
  },
  {
   "cell_type": "code",
   "execution_count": 423,
   "metadata": {},
   "outputs": [
    {
     "data": {
      "text/html": [
       "<div>\n",
       "<style scoped>\n",
       "    .dataframe tbody tr th:only-of-type {\n",
       "        vertical-align: middle;\n",
       "    }\n",
       "\n",
       "    .dataframe tbody tr th {\n",
       "        vertical-align: top;\n",
       "    }\n",
       "\n",
       "    .dataframe thead th {\n",
       "        text-align: right;\n",
       "    }\n",
       "</style>\n",
       "<table border=\"1\" class=\"dataframe\">\n",
       "  <thead>\n",
       "    <tr style=\"text-align: right;\">\n",
       "      <th></th>\n",
       "      <th>transactionId</th>\n",
       "      <th>visitorId</th>\n",
       "      <th>date</th>\n",
       "      <th>revenue</th>\n",
       "      <th>group</th>\n",
       "    </tr>\n",
       "  </thead>\n",
       "  <tbody>\n",
       "    <tr>\n",
       "      <th>0</th>\n",
       "      <td>3667963787</td>\n",
       "      <td>3312258926</td>\n",
       "      <td>2019-08-15</td>\n",
       "      <td>30.4</td>\n",
       "      <td>B</td>\n",
       "    </tr>\n",
       "    <tr>\n",
       "      <th>1</th>\n",
       "      <td>2804400009</td>\n",
       "      <td>3642806036</td>\n",
       "      <td>2019-08-15</td>\n",
       "      <td>15.2</td>\n",
       "      <td>B</td>\n",
       "    </tr>\n",
       "    <tr>\n",
       "      <th>3</th>\n",
       "      <td>3797467345</td>\n",
       "      <td>1196621759</td>\n",
       "      <td>2019-08-15</td>\n",
       "      <td>155.1</td>\n",
       "      <td>B</td>\n",
       "    </tr>\n",
       "    <tr>\n",
       "      <th>4</th>\n",
       "      <td>2282983706</td>\n",
       "      <td>2322279887</td>\n",
       "      <td>2019-08-15</td>\n",
       "      <td>40.5</td>\n",
       "      <td>B</td>\n",
       "    </tr>\n",
       "    <tr>\n",
       "      <th>5</th>\n",
       "      <td>182168103</td>\n",
       "      <td>935554773</td>\n",
       "      <td>2019-08-15</td>\n",
       "      <td>35.0</td>\n",
       "      <td>B</td>\n",
       "    </tr>\n",
       "  </tbody>\n",
       "</table>\n",
       "</div>"
      ],
      "text/plain": [
       "   transactionId   visitorId       date  revenue group\n",
       "0     3667963787  3312258926 2019-08-15     30.4     B\n",
       "1     2804400009  3642806036 2019-08-15     15.2     B\n",
       "3     3797467345  1196621759 2019-08-15    155.1     B\n",
       "4     2282983706  2322279887 2019-08-15     40.5     B\n",
       "5      182168103   935554773 2019-08-15     35.0     B"
      ]
     },
     "execution_count": 423,
     "metadata": {},
     "output_type": "execute_result"
    }
   ],
   "source": [
    "filtered_orders.head()"
   ]
  },
  {
   "cell_type": "code",
   "execution_count": 424,
   "metadata": {},
   "outputs": [
    {
     "name": "stdout",
     "output_type": "stream",
     "text": [
      "Usuarios duplicados entre grupos: 0\n"
     ]
    }
   ],
   "source": [
    "# Ver usuarios duplicados entre grupos A y B\n",
    "duplicated_users = orders_df.groupby('visitorId')['group'].nunique()\n",
    "duplicated_users = duplicated_users[duplicated_users > 1]  # Filtrar usuarios que aparecen en más de un grupo\n",
    "\n",
    "print(f\"Usuarios duplicados entre grupos: {duplicated_users.shape[0]}\")"
   ]
  },
  {
   "cell_type": "code",
   "execution_count": 425,
   "metadata": {},
   "outputs": [
    {
     "data": {
      "text/html": [
       "<div>\n",
       "<style scoped>\n",
       "    .dataframe tbody tr th:only-of-type {\n",
       "        vertical-align: middle;\n",
       "    }\n",
       "\n",
       "    .dataframe tbody tr th {\n",
       "        vertical-align: top;\n",
       "    }\n",
       "\n",
       "    .dataframe thead th {\n",
       "        text-align: right;\n",
       "    }\n",
       "</style>\n",
       "<table border=\"1\" class=\"dataframe\">\n",
       "  <thead>\n",
       "    <tr style=\"text-align: right;\">\n",
       "      <th></th>\n",
       "      <th>transactionId</th>\n",
       "      <th>visitorId</th>\n",
       "      <th>date</th>\n",
       "      <th>revenue</th>\n",
       "      <th>group</th>\n",
       "    </tr>\n",
       "  </thead>\n",
       "  <tbody>\n",
       "    <tr>\n",
       "      <th>0</th>\n",
       "      <td>3667963787</td>\n",
       "      <td>3312258926</td>\n",
       "      <td>2019-08-15</td>\n",
       "      <td>30.4</td>\n",
       "      <td>B</td>\n",
       "    </tr>\n",
       "    <tr>\n",
       "      <th>1</th>\n",
       "      <td>2804400009</td>\n",
       "      <td>3642806036</td>\n",
       "      <td>2019-08-15</td>\n",
       "      <td>15.2</td>\n",
       "      <td>B</td>\n",
       "    </tr>\n",
       "    <tr>\n",
       "      <th>3</th>\n",
       "      <td>3797467345</td>\n",
       "      <td>1196621759</td>\n",
       "      <td>2019-08-15</td>\n",
       "      <td>155.1</td>\n",
       "      <td>B</td>\n",
       "    </tr>\n",
       "    <tr>\n",
       "      <th>4</th>\n",
       "      <td>2282983706</td>\n",
       "      <td>2322279887</td>\n",
       "      <td>2019-08-15</td>\n",
       "      <td>40.5</td>\n",
       "      <td>B</td>\n",
       "    </tr>\n",
       "    <tr>\n",
       "      <th>5</th>\n",
       "      <td>182168103</td>\n",
       "      <td>935554773</td>\n",
       "      <td>2019-08-15</td>\n",
       "      <td>35.0</td>\n",
       "      <td>B</td>\n",
       "    </tr>\n",
       "  </tbody>\n",
       "</table>\n",
       "</div>"
      ],
      "text/plain": [
       "   transactionId   visitorId       date  revenue group\n",
       "0     3667963787  3312258926 2019-08-15     30.4     B\n",
       "1     2804400009  3642806036 2019-08-15     15.2     B\n",
       "3     3797467345  1196621759 2019-08-15    155.1     B\n",
       "4     2282983706  2322279887 2019-08-15     40.5     B\n",
       "5      182168103   935554773 2019-08-15     35.0     B"
      ]
     },
     "execution_count": 425,
     "metadata": {},
     "output_type": "execute_result"
    }
   ],
   "source": [
    "orders_df.head()"
   ]
  },
  {
   "cell_type": "code",
   "execution_count": 426,
   "metadata": {},
   "outputs": [
    {
     "data": {
      "text/html": [
       "<div>\n",
       "<style scoped>\n",
       "    .dataframe tbody tr th:only-of-type {\n",
       "        vertical-align: middle;\n",
       "    }\n",
       "\n",
       "    .dataframe tbody tr th {\n",
       "        vertical-align: top;\n",
       "    }\n",
       "\n",
       "    .dataframe thead th {\n",
       "        text-align: right;\n",
       "    }\n",
       "</style>\n",
       "<table border=\"1\" class=\"dataframe\">\n",
       "  <thead>\n",
       "    <tr style=\"text-align: right;\">\n",
       "      <th></th>\n",
       "      <th>group</th>\n",
       "      <th>date</th>\n",
       "      <th>revenue</th>\n",
       "    </tr>\n",
       "  </thead>\n",
       "  <tbody>\n",
       "    <tr>\n",
       "      <th>0</th>\n",
       "      <td>A</td>\n",
       "      <td>2019-08-01</td>\n",
       "      <td>2266.6</td>\n",
       "    </tr>\n",
       "    <tr>\n",
       "      <th>1</th>\n",
       "      <td>A</td>\n",
       "      <td>2019-08-02</td>\n",
       "      <td>3734.9</td>\n",
       "    </tr>\n",
       "    <tr>\n",
       "      <th>2</th>\n",
       "      <td>A</td>\n",
       "      <td>2019-08-03</td>\n",
       "      <td>5550.1</td>\n",
       "    </tr>\n",
       "    <tr>\n",
       "      <th>3</th>\n",
       "      <td>A</td>\n",
       "      <td>2019-08-04</td>\n",
       "      <td>6225.6</td>\n",
       "    </tr>\n",
       "    <tr>\n",
       "      <th>4</th>\n",
       "      <td>A</td>\n",
       "      <td>2019-08-05</td>\n",
       "      <td>7623.6</td>\n",
       "    </tr>\n",
       "  </tbody>\n",
       "</table>\n",
       "</div>"
      ],
      "text/plain": [
       "  group       date  revenue\n",
       "0     A 2019-08-01   2266.6\n",
       "1     A 2019-08-02   3734.9\n",
       "2     A 2019-08-03   5550.1\n",
       "3     A 2019-08-04   6225.6\n",
       "4     A 2019-08-05   7623.6"
      ]
     },
     "execution_count": 426,
     "metadata": {},
     "output_type": "execute_result"
    }
   ],
   "source": [
    "# Ingreso acumulado\n",
    "cumulative_revenue = (\n",
    "    orders_df.groupby(['group', 'date'])['revenue']\n",
    "    .sum()\n",
    "    .groupby(level=0)\n",
    "    .cumsum()\n",
    "    .reset_index()\n",
    ")\n",
    "cumulative_revenue.head()"
   ]
  },
  {
   "cell_type": "code",
   "execution_count": 427,
   "metadata": {},
   "outputs": [
    {
     "data": {
      "image/png": "[encoded data removed]",
      "text/plain": [
       "<Figure size 1000x500 with 1 Axes>"
      ]
     },
     "metadata": {},
     "output_type": "display_data"
    }
   ],
   "source": [
    "plt.figure(figsize=(10,5))\n",
    "for grp in ['A', 'B']:\n",
    "    grp_data = cumulative_revenue[cumulative_revenue['group']==grp]\n",
    "    plt.plot(grp_data['date'], grp_data['revenue'], label=f'Grupo {grp}')\n",
    "plt.title('Ingreso acumulado por grupo')\n",
    "plt.xlabel('Fecha')\n",
    "plt.ylabel('Ingreso acumulado ($)')\n",
    "plt.legend()\n",
    "plt.xticks(rotation=45)\n",
    "plt.tight_layout()\n",
    "plt.show()"
   ]
  },
  {
   "cell_type": "markdown",
   "metadata": {},
   "source": [
    "<div class=\"alert alert-block alert-success\">\n",
    "<b>Comentario de Revisor</b> <a class=\"tocSkip\"></a>\n",
    "\n",
    "Bien, es un día el que diferencia B del grupo A, pasado ese día, la curva sigue siendo paralela. \n",
    "\n",
    "</div>"
   ]
  },
  {
   "cell_type": "markdown",
   "metadata": {},
   "source": [
    "Podemos ver el crecimiento mayor en el grupo B.\n",
    "\n",
    "Diferencias en el crecimiento: Si un grupo muestra un ingreso acumulado significativamente mayor, la variación aplicada en ese grupo podría haber tenido un impacto positivo.\n",
    "\n",
    "Tendencias en el tiempo: Si los ingresos en ambos grupos son similares hasta cierto punto y luego divergen, podríamos analizar qué factores causaron el cambio.\n",
    "\n",
    "Validación estadística: Para asegurarnos de que la diferencia es significativa, podemos realizar una prueba estadística como t-test o Mann-Whitney U."
   ]
  },
  {
   "cell_type": "markdown",
   "metadata": {},
   "source": [
    "2.2 Representa gráficamente el tamaño de pedido promedio acumulado por grupo. Haz conclusiones y conjeturas."
   ]
  },
  {
   "cell_type": "code",
   "execution_count": 428,
   "metadata": {},
   "outputs": [
    {
     "data": {
      "text/plain": [
       "group  date      \n",
       "A      2019-08-01    98.547826\n",
       "       2019-08-02    77.278947\n",
       "       2019-08-03    75.633333\n",
       "       2019-08-04    61.409091\n",
       "       2019-08-05    63.545455\n",
       "Name: revenue, dtype: float64"
      ]
     },
     "execution_count": 428,
     "metadata": {},
     "output_type": "execute_result"
    }
   ],
   "source": [
    "# ticket medio diario\n",
    "daily = orders_df.groupby(['group', 'date'])['revenue'].mean()\n",
    "daily.head()"
   ]
  },
  {
   "cell_type": "code",
   "execution_count": 429,
   "metadata": {},
   "outputs": [
    {
     "data": {
      "text/html": [
       "<div>\n",
       "<style scoped>\n",
       "    .dataframe tbody tr th:only-of-type {\n",
       "        vertical-align: middle;\n",
       "    }\n",
       "\n",
       "    .dataframe tbody tr th {\n",
       "        vertical-align: top;\n",
       "    }\n",
       "\n",
       "    .dataframe thead th {\n",
       "        text-align: right;\n",
       "    }\n",
       "</style>\n",
       "<table border=\"1\" class=\"dataframe\">\n",
       "  <thead>\n",
       "    <tr style=\"text-align: right;\">\n",
       "      <th></th>\n",
       "      <th>group</th>\n",
       "      <th>date</th>\n",
       "      <th>revenue</th>\n",
       "    </tr>\n",
       "  </thead>\n",
       "  <tbody>\n",
       "    <tr>\n",
       "      <th>0</th>\n",
       "      <td>A</td>\n",
       "      <td>2019-08-01</td>\n",
       "      <td>98.547826</td>\n",
       "    </tr>\n",
       "    <tr>\n",
       "      <th>1</th>\n",
       "      <td>A</td>\n",
       "      <td>2019-08-02</td>\n",
       "      <td>87.913387</td>\n",
       "    </tr>\n",
       "    <tr>\n",
       "      <th>2</th>\n",
       "      <td>A</td>\n",
       "      <td>2019-08-03</td>\n",
       "      <td>83.820036</td>\n",
       "    </tr>\n",
       "    <tr>\n",
       "      <th>3</th>\n",
       "      <td>A</td>\n",
       "      <td>2019-08-04</td>\n",
       "      <td>78.217299</td>\n",
       "    </tr>\n",
       "    <tr>\n",
       "      <th>4</th>\n",
       "      <td>A</td>\n",
       "      <td>2019-08-05</td>\n",
       "      <td>75.282930</td>\n",
       "    </tr>\n",
       "  </tbody>\n",
       "</table>\n",
       "</div>"
      ],
      "text/plain": [
       "  group       date    revenue\n",
       "0     A 2019-08-01  98.547826\n",
       "1     A 2019-08-02  87.913387\n",
       "2     A 2019-08-03  83.820036\n",
       "3     A 2019-08-04  78.217299\n",
       "4     A 2019-08-05  75.282930"
      ]
     },
     "execution_count": 429,
     "metadata": {},
     "output_type": "execute_result"
    }
   ],
   "source": [
    "#media acumulada por grupo, sin duplicar el nivel 'group'\n",
    "avg_order = (\n",
    "    daily\n",
    "      .groupby(level=0, group_keys=False)        # evita la 2ª capa 'group'\n",
    "      .apply(lambda s: s.expanding().mean())     # media acumulada\n",
    "      .reset_index(name='revenue')               # pasa índice a columnas\n",
    ")\n",
    "\n",
    "avg_order.head()"
   ]
  },
  {
   "cell_type": "code",
   "execution_count": 430,
   "metadata": {},
   "outputs": [
    {
     "data": {
      "image/png": "[encoded data removed]",
      "text/plain": [
       "<Figure size 1000x500 with 1 Axes>"
      ]
     },
     "metadata": {},
     "output_type": "display_data"
    }
   ],
   "source": [
    "# gráfico\n",
    "plt.figure(figsize=(10,5))\n",
    "for g in ['A', 'B']:\n",
    "    mask = avg_order['group'] == g\n",
    "    plt.plot(avg_order.loc[mask, 'date'], avg_order.loc[mask, 'revenue'], label=f'Grupo {g}')\n",
    "plt.title('Tamaño promedio de pedido acumulado')\n",
    "plt.xlabel('Fecha'); plt.ylabel('Ticket promedio ($)')\n",
    "plt.legend(); plt.xticks(rotation=45); plt.tight_layout(); plt.show()"
   ]
  },
  {
   "cell_type": "markdown",
   "metadata": {},
   "source": [
    "<div class=\"alert alert-block alert-success\">\n",
    "<b>Comentario de Revisor</b> <a class=\"tocSkip\"></a>\n",
    "\n",
    "Bien, correcto. El mismo día que vimos en el otro gráfico, tuvo un promedio de pedidos muy grandes, por lo que se va confirmando nuestra sospecha. Luego de ese día, tiende a bajar, puesto que ya no hay pedidos tan grandes y debería volver a un nivel similar al anterior.\n",
    "\n",
    "</div>"
   ]
  },
  {
   "cell_type": "markdown",
   "metadata": {},
   "source": [
    "Se sigue viendo mas fuerte el grupo B por su mayur ingreso en los pedidos.\n",
    "\n",
    "Diferencias entre grupos: Si un grupo muestra un tamaño de pedido promedio acumulado mayor, la variación aplicada podría haber incentivado compras de mayor valor.\n",
    "\n",
    "Estabilidad o fluctuaciones: Si los datos muestran mucha variabilidad, podría indicar que factores externos están afectando los pedidos.\n",
    "\n",
    "Impacto sostenido: Si la diferencia se mantiene a lo largo del tiempo, podríamos considerar la implementación de la variación de manera definitiva."
   ]
  },
  {
   "cell_type": "markdown",
   "metadata": {},
   "source": [
    "2.3 Representa gráficamente la diferencia relativa en el tamaño de pedido promedio acumulado para el grupo B en comparación con el grupo A. Haz conclusiones y conjeturas."
   ]
  },
  {
   "cell_type": "code",
   "execution_count": 431,
   "metadata": {},
   "outputs": [
    {
     "data": {
      "text/html": [
       "<div>\n",
       "<style scoped>\n",
       "    .dataframe tbody tr th:only-of-type {\n",
       "        vertical-align: middle;\n",
       "    }\n",
       "\n",
       "    .dataframe tbody tr th {\n",
       "        vertical-align: top;\n",
       "    }\n",
       "\n",
       "    .dataframe thead th {\n",
       "        text-align: right;\n",
       "    }\n",
       "</style>\n",
       "<table border=\"1\" class=\"dataframe\">\n",
       "  <thead>\n",
       "    <tr style=\"text-align: right;\">\n",
       "      <th>group</th>\n",
       "      <th>date</th>\n",
       "      <th>A</th>\n",
       "      <th>B</th>\n",
       "    </tr>\n",
       "  </thead>\n",
       "  <tbody>\n",
       "    <tr>\n",
       "      <th>0</th>\n",
       "      <td>2019-08-01</td>\n",
       "      <td>98.547826</td>\n",
       "      <td>56.894118</td>\n",
       "    </tr>\n",
       "    <tr>\n",
       "      <th>1</th>\n",
       "      <td>2019-08-02</td>\n",
       "      <td>87.913387</td>\n",
       "      <td>84.275320</td>\n",
       "    </tr>\n",
       "    <tr>\n",
       "      <th>2</th>\n",
       "      <td>2019-08-03</td>\n",
       "      <td>83.820036</td>\n",
       "      <td>81.697832</td>\n",
       "    </tr>\n",
       "    <tr>\n",
       "      <th>3</th>\n",
       "      <td>2019-08-04</td>\n",
       "      <td>78.217299</td>\n",
       "      <td>88.623374</td>\n",
       "    </tr>\n",
       "    <tr>\n",
       "      <th>4</th>\n",
       "      <td>2019-08-05</td>\n",
       "      <td>75.282930</td>\n",
       "      <td>84.701556</td>\n",
       "    </tr>\n",
       "  </tbody>\n",
       "</table>\n",
       "</div>"
      ],
      "text/plain": [
       "group       date          A          B\n",
       "0     2019-08-01  98.547826  56.894118\n",
       "1     2019-08-02  87.913387  84.275320\n",
       "2     2019-08-03  83.820036  81.697832\n",
       "3     2019-08-04  78.217299  88.623374\n",
       "4     2019-08-05  75.282930  84.701556"
      ]
     },
     "execution_count": 431,
     "metadata": {},
     "output_type": "execute_result"
    }
   ],
   "source": [
    "merged_avg = (\n",
    "    avg_order.pivot(index='date', columns='group', values='revenue')\n",
    "    .reset_index()\n",
    ")\n",
    "\n",
    "merged_avg.head()"
   ]
  },
  {
   "cell_type": "code",
   "execution_count": 432,
   "metadata": {},
   "outputs": [
    {
     "data": {
      "image/png": "[encoded data removed]",
      "text/plain": [
       "<Figure size 1000x500 with 1 Axes>"
      ]
     },
     "metadata": {},
     "output_type": "display_data"
    }
   ],
   "source": [
    "merged_avg['rel_diff'] = (merged_avg['B'] - merged_avg['A']) / merged_avg['A']\n",
    "\n",
    "plt.figure(figsize=(10,5))\n",
    "plt.plot(merged_avg['date'], merged_avg['rel_diff'], marker='o')\n",
    "plt.axhline(0, color='gray', linestyle='--')\n",
    "plt.title('Diferencia relativa del ticket promedio (B vs A)')\n",
    "plt.xlabel('Fecha')\n",
    "plt.ylabel('Diferencia relativa')\n",
    "plt.xticks(rotation=45)\n",
    "plt.tight_layout()\n",
    "plt.show()"
   ]
  },
  {
   "cell_type": "markdown",
   "metadata": {},
   "source": [
    "Una diferencia estable y positiva indicaría que B tiene un ticket promedio mayor.\n",
    "\n",
    "Diferencias entre grupos: Si un grupo muestra un tamaño de pedido promedio acumulado mayor, la variación aplicada podría haber incentivado compras de mayor valor.\n",
    "\n",
    "Estabilidad o fluctuaciones: Si los datos muestran mucha variabilidad, podría indicar que factores externos están afectando los pedidos.\n",
    "\n",
    "Impacto sostenido: Si la diferencia se mantiene a lo largo del tiempo, podríamos considerar la implementación de la variación de manera definitiva."
   ]
  },
  {
   "cell_type": "markdown",
   "metadata": {},
   "source": [
    "<div class=\"alert alert-block alert-success\">\n",
    "<b>Comentario de Revisor</b> <a class=\"tocSkip\"></a>\n",
    "\n",
    "Muy bien, correcto el gráfico, nos muestra que después de la primera semana los tamaños se iban regularizando hasta el 18/08. En esa fecha, B aumenta, pero posterior a esa fecha, los tamaños de pedidos promedio acumulado tienden a igualarse.\n",
    "\n",
    "</div>"
   ]
  },
  {
   "cell_type": "markdown",
   "metadata": {},
   "source": [
    "2.4 Calcula la tasa de conversión de cada grupo como la relación entre los pedidos y el número de visitas de cada día. Representa gráficamente las tasas de conversión diarias de los dos grupos y describe la diferencia. Saca conclusiones y haz conjeturas."
   ]
  },
  {
   "cell_type": "code",
   "execution_count": 433,
   "metadata": {},
   "outputs": [
    {
     "data": {
      "text/html": [
       "<div>\n",
       "<style scoped>\n",
       "    .dataframe tbody tr th:only-of-type {\n",
       "        vertical-align: middle;\n",
       "    }\n",
       "\n",
       "    .dataframe tbody tr th {\n",
       "        vertical-align: top;\n",
       "    }\n",
       "\n",
       "    .dataframe thead th {\n",
       "        text-align: right;\n",
       "    }\n",
       "</style>\n",
       "<table border=\"1\" class=\"dataframe\">\n",
       "  <thead>\n",
       "    <tr style=\"text-align: right;\">\n",
       "      <th></th>\n",
       "      <th>group</th>\n",
       "      <th>date</th>\n",
       "      <th>orders</th>\n",
       "    </tr>\n",
       "  </thead>\n",
       "  <tbody>\n",
       "    <tr>\n",
       "      <th>0</th>\n",
       "      <td>A</td>\n",
       "      <td>2019-08-01</td>\n",
       "      <td>23</td>\n",
       "    </tr>\n",
       "    <tr>\n",
       "      <th>1</th>\n",
       "      <td>A</td>\n",
       "      <td>2019-08-02</td>\n",
       "      <td>19</td>\n",
       "    </tr>\n",
       "    <tr>\n",
       "      <th>2</th>\n",
       "      <td>A</td>\n",
       "      <td>2019-08-03</td>\n",
       "      <td>24</td>\n",
       "    </tr>\n",
       "    <tr>\n",
       "      <th>3</th>\n",
       "      <td>A</td>\n",
       "      <td>2019-08-04</td>\n",
       "      <td>11</td>\n",
       "    </tr>\n",
       "    <tr>\n",
       "      <th>4</th>\n",
       "      <td>A</td>\n",
       "      <td>2019-08-05</td>\n",
       "      <td>22</td>\n",
       "    </tr>\n",
       "  </tbody>\n",
       "</table>\n",
       "</div>"
      ],
      "text/plain": [
       "  group       date  orders\n",
       "0     A 2019-08-01      23\n",
       "1     A 2019-08-02      19\n",
       "2     A 2019-08-03      24\n",
       "3     A 2019-08-04      11\n",
       "4     A 2019-08-05      22"
      ]
     },
     "execution_count": 433,
     "metadata": {},
     "output_type": "execute_result"
    }
   ],
   "source": [
    "# Pedidos por día y grupo\n",
    "orders_per_day = orders_df.groupby(['group', 'date']).agg({'transactionId':'nunique'}).reset_index()\n",
    "orders_per_day.rename(columns={'transactionId':'orders'}, inplace=True)\n",
    "\n",
    "orders_per_day.head()"
   ]
  },
  {
   "cell_type": "code",
   "execution_count": 434,
   "metadata": {},
   "outputs": [
    {
     "data": {
      "text/html": [
       "<div>\n",
       "<style scoped>\n",
       "    .dataframe tbody tr th:only-of-type {\n",
       "        vertical-align: middle;\n",
       "    }\n",
       "\n",
       "    .dataframe tbody tr th {\n",
       "        vertical-align: top;\n",
       "    }\n",
       "\n",
       "    .dataframe thead th {\n",
       "        text-align: right;\n",
       "    }\n",
       "</style>\n",
       "<table border=\"1\" class=\"dataframe\">\n",
       "  <thead>\n",
       "    <tr style=\"text-align: right;\">\n",
       "      <th></th>\n",
       "      <th>date</th>\n",
       "      <th>group</th>\n",
       "      <th>visits</th>\n",
       "      <th>orders</th>\n",
       "      <th>conversion</th>\n",
       "    </tr>\n",
       "  </thead>\n",
       "  <tbody>\n",
       "    <tr>\n",
       "      <th>0</th>\n",
       "      <td>2019-08-01</td>\n",
       "      <td>A</td>\n",
       "      <td>719</td>\n",
       "      <td>23</td>\n",
       "      <td>0.031989</td>\n",
       "    </tr>\n",
       "    <tr>\n",
       "      <th>1</th>\n",
       "      <td>2019-08-02</td>\n",
       "      <td>A</td>\n",
       "      <td>619</td>\n",
       "      <td>19</td>\n",
       "      <td>0.030695</td>\n",
       "    </tr>\n",
       "    <tr>\n",
       "      <th>2</th>\n",
       "      <td>2019-08-03</td>\n",
       "      <td>A</td>\n",
       "      <td>507</td>\n",
       "      <td>24</td>\n",
       "      <td>0.047337</td>\n",
       "    </tr>\n",
       "    <tr>\n",
       "      <th>3</th>\n",
       "      <td>2019-08-04</td>\n",
       "      <td>A</td>\n",
       "      <td>717</td>\n",
       "      <td>11</td>\n",
       "      <td>0.015342</td>\n",
       "    </tr>\n",
       "    <tr>\n",
       "      <th>4</th>\n",
       "      <td>2019-08-05</td>\n",
       "      <td>A</td>\n",
       "      <td>756</td>\n",
       "      <td>22</td>\n",
       "      <td>0.029101</td>\n",
       "    </tr>\n",
       "  </tbody>\n",
       "</table>\n",
       "</div>"
      ],
      "text/plain": [
       "        date group  visits  orders  conversion\n",
       "0 2019-08-01     A     719      23    0.031989\n",
       "1 2019-08-02     A     619      19    0.030695\n",
       "2 2019-08-03     A     507      24    0.047337\n",
       "3 2019-08-04     A     717      11    0.015342\n",
       "4 2019-08-05     A     756      22    0.029101"
      ]
     },
     "execution_count": 434,
     "metadata": {},
     "output_type": "execute_result"
    }
   ],
   "source": [
    "# Unimos con visits\n",
    "daily = pd.merge(visits_df, orders_per_day, on=['group','date'], how='left').fillna(0)\n",
    "daily['conversion'] = daily['orders'] / daily['visits']\n",
    "\n",
    "daily.head()"
   ]
  },
  {
   "cell_type": "code",
   "execution_count": 435,
   "metadata": {},
   "outputs": [
    {
     "data": {
      "image/png": "[encoded data removed]",
      "text/plain": [
       "<Figure size 1000x500 with 1 Axes>"
      ]
     },
     "metadata": {},
     "output_type": "display_data"
    }
   ],
   "source": [
    "plt.figure(figsize=(10,5))\n",
    "for grp in ['A','B']:\n",
    "    grp_data = daily[daily['group']==grp]\n",
    "    plt.plot(grp_data['date'], grp_data['conversion'], label=f'Grupo {grp}')\n",
    "plt.title('Conversión diaria por grupo')\n",
    "plt.xlabel('Fecha')\n",
    "plt.ylabel('Conversión')\n",
    "plt.legend()\n",
    "plt.xticks(rotation=45)\n",
    "plt.tight_layout()\n",
    "plt.show()"
   ]
  },
  {
   "cell_type": "markdown",
   "metadata": {},
   "source": [
    "Si la tasa de conversión del grupo B es mayor que la del grupo A: La variación aplicada al grupo B podría haber incentivado más compras.\n",
    "\n",
    "Si las tasas de conversión son similares: Es posible que la variación no haya tenido un impacto significativo en el comportamiento de los usuarios.\n",
    "\n",
    "Si hay fluctuaciones en ciertos días: Factores externos como promociones, cambios en la demanda o eventos especiales podrían haber influido en las conversiones.\n",
    "\n",
    "Si la tendencia del grupo B es negativa: Podría indicar que la variación aplicada tuvo un efecto adverso en la experiencia del usuario."
   ]
  },
  {
   "cell_type": "markdown",
   "metadata": {},
   "source": [
    "<div class=\"alert alert-block alert-success\">\n",
    "<b>Comentario de Revisor</b> <a class=\"tocSkip\"></a>\n",
    "\n",
    "Muy bien! Las conversiones se ven similares para ambos grupos\n",
    "\n",
    "</div>"
   ]
  },
  {
   "cell_type": "markdown",
   "metadata": {},
   "source": [
    "2.5 Traza un gráfico de dispersión del número de pedidos por usuario. Haz conclusiones y conjeturas."
   ]
  },
  {
   "cell_type": "code",
   "execution_count": 436,
   "metadata": {},
   "outputs": [
    {
     "data": {
      "text/html": [
       "<div>\n",
       "<style scoped>\n",
       "    .dataframe tbody tr th:only-of-type {\n",
       "        vertical-align: middle;\n",
       "    }\n",
       "\n",
       "    .dataframe tbody tr th {\n",
       "        vertical-align: top;\n",
       "    }\n",
       "\n",
       "    .dataframe thead th {\n",
       "        text-align: right;\n",
       "    }\n",
       "</style>\n",
       "<table border=\"1\" class=\"dataframe\">\n",
       "  <thead>\n",
       "    <tr style=\"text-align: right;\">\n",
       "      <th></th>\n",
       "      <th>visitorId</th>\n",
       "      <th>orders</th>\n",
       "    </tr>\n",
       "  </thead>\n",
       "  <tbody>\n",
       "    <tr>\n",
       "      <th>0</th>\n",
       "      <td>5114589</td>\n",
       "      <td>1</td>\n",
       "    </tr>\n",
       "    <tr>\n",
       "      <th>1</th>\n",
       "      <td>6958315</td>\n",
       "      <td>1</td>\n",
       "    </tr>\n",
       "    <tr>\n",
       "      <th>2</th>\n",
       "      <td>11685486</td>\n",
       "      <td>1</td>\n",
       "    </tr>\n",
       "    <tr>\n",
       "      <th>3</th>\n",
       "      <td>39475350</td>\n",
       "      <td>1</td>\n",
       "    </tr>\n",
       "    <tr>\n",
       "      <th>4</th>\n",
       "      <td>47206413</td>\n",
       "      <td>1</td>\n",
       "    </tr>\n",
       "  </tbody>\n",
       "</table>\n",
       "</div>"
      ],
      "text/plain": [
       "   visitorId  orders\n",
       "0    5114589       1\n",
       "1    6958315       1\n",
       "2   11685486       1\n",
       "3   39475350       1\n",
       "4   47206413       1"
      ]
     },
     "execution_count": 436,
     "metadata": {},
     "output_type": "execute_result"
    }
   ],
   "source": [
    "orders_per_user = orders_df.groupby('visitorId').agg({'transactionId':'nunique'}).reset_index()\n",
    "orders_per_user.rename(columns={'transactionId':'orders'}, inplace=True)\n",
    "\n",
    "orders_per_user.head()"
   ]
  },
  {
   "cell_type": "code",
   "execution_count": 437,
   "metadata": {},
   "outputs": [
    {
     "data": {
      "image/png": "[encoded data removed]",
      "text/plain": [
       "<Figure size 800x500 with 1 Axes>"
      ]
     },
     "metadata": {},
     "output_type": "display_data"
    }
   ],
   "source": [
    "plt.figure(figsize=(8,5))\n",
    "plt.scatter(orders_per_user['visitorId'], orders_per_user['orders'], alpha=0.5)\n",
    "plt.title('Pedidos por usuario')\n",
    "plt.xlabel('Usuario')\n",
    "plt.ylabel('Nº de pedidos')\n",
    "plt.ylim(0, orders_per_user['orders'].max()+1)\n",
    "plt.show()"
   ]
  },
  {
   "cell_type": "markdown",
   "metadata": {},
   "source": [
    "<div class=\"alert alert-block alert-danger\">\n",
    "<b></b> <a class=\"tocSkip\"></a>\n",
    "\n",
    "n",
    "</div>"
   ]
  },
  {
   "cell_type": "markdown",
   "metadata": {},
   "source": [
    "<div class=\"alert alert-block alert-info\">\n",
    "<b>Correcto el grafico cambia al eliminar los duplicados.</b> <a class=\"tocSkip\"></a>\n",
    "</div>"
   ]
  },
  {
   "cell_type": "markdown",
   "metadata": {},
   "source": [
    "<div class=\"alert alert-block alert-success\">\n",
    "<b>Comentario de Revisor v2</b> <a class=\"tocSkip\"></a>\n",
    "\n",
    "Muy bien, corregido!\n",
    "\n",
    "</div>"
   ]
  },
  {
   "cell_type": "markdown",
   "metadata": {},
   "source": [
    "Distribución de compradores: Si hay pocos usuarios con muchas compras y muchos usuarios con pocas compras, el negocio puede depender de clientes recurrentes.\n",
    "\n",
    "Clientes frecuentes vs. nuevos: Si la mayoría de los usuarios tienen solo un pedido, podríamos explorar estrategias para mejorar la retención de clientes.\n",
    "\n",
    "Usuarios con compras extremas: Algunos clientes podrían realizar muchas compras en poco tiempo, lo que puede indicar compradores corporativos o una fuerte"
   ]
  },
  {
   "cell_type": "code",
   "execution_count": 438,
   "metadata": {},
   "outputs": [
    {
     "name": "stdout",
     "output_type": "stream",
     "text": [
      "Percentil 95: 1.0, Percentil 99: 2.0\n"
     ]
    }
   ],
   "source": [
    "q95_orders = np.percentile(orders_per_user['orders'], 95)\n",
    "q99_orders = np.percentile(orders_per_user['orders'], 99)\n",
    "print(f'Percentil 95: {q95_orders}, Percentil 99: {q99_orders}')"
   ]
  },
  {
   "cell_type": "markdown",
   "metadata": {},
   "source": [
    "Generalmente consideramos valores por encima del percentil 99 como anomalías"
   ]
  },
  {
   "cell_type": "markdown",
   "metadata": {},
   "source": [
    "2.6 Calcula los percentiles 95 y 99 del número de pedidos por usuario. Define el punto en el cual un punto de datos se convierte en una anomalía. "
   ]
  },
  {
   "cell_type": "code",
   "execution_count": 439,
   "metadata": {},
   "outputs": [
    {
     "name": "stdout",
     "output_type": "stream",
     "text": [
      "Percentil 95: 1.0\n",
      "Percentil 99: 2.0\n",
      "Usuarios considerados anomalías:\n",
      "      visitorId  order_count\n",
      "55    249864742            3\n",
      "138   611059232            3\n",
      "478  2108163459            3\n",
      "632  2742574263            3\n",
      "687  2988190573            3\n",
      "890  3908431265            3\n",
      "908  3967698036            3\n"
     ]
    }
   ],
   "source": [
    "# Contar pedidos por usuario\n",
    "orders_per_user = orders_df.groupby('visitorId')['transactionId'].count().reset_index()\n",
    "orders_per_user.rename(columns={'transactionId': 'order_count'}, inplace=True)\n",
    "\n",
    "# Calcular percentiles 95 y 99\n",
    "percentile_95 = np.percentile(orders_per_user['order_count'], 95)\n",
    "percentile_99 = np.percentile(orders_per_user['order_count'], 99)\n",
    "\n",
    "# Definir anomalías (usuarios con pedidos mayores al percentil 99)\n",
    "anomalies = orders_per_user[orders_per_user['order_count'] > percentile_99]\n",
    "\n",
    "# Mostrar los resultados\n",
    "print(f\"Percentil 95: {percentile_95}\")\n",
    "print(f\"Percentil 99: {percentile_99}\")\n",
    "print(f\"Usuarios considerados anomalías:\\n{anomalies}\")"
   ]
  },
  {
   "cell_type": "markdown",
   "metadata": {},
   "source": [
    "Valores por encima del percentil 99 pueden ser considerados casos atípicos, ya que representan usuarios que han realizado un número de pedidos extraordinariamente alto en comparación con el resto.\n",
    "\n",
    "Valores entre el percentil 95 y 99 pueden indicar usuarios con un comportamiento de compra superior al promedio, pero aún dentro de un rango razonable.\n",
    "\n",
    "Posibles explicaciones de anomalías: Pueden ser clientes mayoristas, compradores corporativos o errores en la captura de datos."
   ]
  },
  {
   "cell_type": "markdown",
   "metadata": {},
   "source": [
    "2.7 Traza un gráfico de dispersión de los precios de los pedidos. Haz conclusiones y conjeturas."
   ]
  },
  {
   "cell_type": "code",
   "execution_count": 440,
   "metadata": {},
   "outputs": [
    {
     "data": {
      "text/html": [
       "<div>\n",
       "<style scoped>\n",
       "    .dataframe tbody tr th:only-of-type {\n",
       "        vertical-align: middle;\n",
       "    }\n",
       "\n",
       "    .dataframe tbody tr th {\n",
       "        vertical-align: top;\n",
       "    }\n",
       "\n",
       "    .dataframe thead th {\n",
       "        text-align: right;\n",
       "    }\n",
       "</style>\n",
       "<table border=\"1\" class=\"dataframe\">\n",
       "  <thead>\n",
       "    <tr style=\"text-align: right;\">\n",
       "      <th></th>\n",
       "      <th>orders</th>\n",
       "      <th>visits</th>\n",
       "    </tr>\n",
       "    <tr>\n",
       "      <th>group</th>\n",
       "      <th></th>\n",
       "      <th></th>\n",
       "    </tr>\n",
       "  </thead>\n",
       "  <tbody>\n",
       "    <tr>\n",
       "      <th>A</th>\n",
       "      <td>468</td>\n",
       "      <td>18736</td>\n",
       "    </tr>\n",
       "    <tr>\n",
       "      <th>B</th>\n",
       "      <td>548</td>\n",
       "      <td>18916</td>\n",
       "    </tr>\n",
       "  </tbody>\n",
       "</table>\n",
       "</div>"
      ],
      "text/plain": [
       "       orders  visits\n",
       "group                \n",
       "A         468   18736\n",
       "B         548   18916"
      ]
     },
     "execution_count": 440,
     "metadata": {},
     "output_type": "execute_result"
    }
   ],
   "source": [
    "conversions = daily.groupby('group').agg({'orders':'sum', 'visits':'sum'})\n",
    "conversions"
   ]
  },
  {
   "cell_type": "code",
   "execution_count": 441,
   "metadata": {},
   "outputs": [
    {
     "data": {
      "text/plain": [
       "group\n",
       "A    468\n",
       "B    548\n",
       "Name: orders, dtype: int64"
      ]
     },
     "execution_count": 441,
     "metadata": {},
     "output_type": "execute_result"
    }
   ],
   "source": [
    "success = conversions['orders']\n",
    "success"
   ]
  },
  {
   "cell_type": "code",
   "execution_count": 442,
   "metadata": {},
   "outputs": [
    {
     "data": {
      "text/plain": [
       "group\n",
       "A    18736\n",
       "B    18916\n",
       "Name: visits, dtype: int64"
      ]
     },
     "execution_count": 442,
     "metadata": {},
     "output_type": "execute_result"
    }
   ],
   "source": [
    "trials = conversions['visits']\n",
    "trials"
   ]
  },
  {
   "cell_type": "code",
   "execution_count": 443,
   "metadata": {},
   "outputs": [
    {
     "name": "stdout",
     "output_type": "stream",
     "text": [
      "Estadístico z: -2.3899, p-valor: 0.0169\n"
     ]
    }
   ],
   "source": [
    "stat, pval = proportions_ztest(success, trials)\n",
    "print(f'Estadístico z: {stat:.4f}, p-valor: {pval:.4f}')"
   ]
  },
  {
   "cell_type": "markdown",
   "metadata": {},
   "source": [
    "Un p-valor < 0.05 indica diferencia significativa en la conversión."
   ]
  },
  {
   "cell_type": "code",
   "execution_count": 444,
   "metadata": {},
   "outputs": [
    {
     "name": "stdout",
     "output_type": "stream",
     "text": [
      "Percentil 95: 414.27, Percentil 99: 830.30\n"
     ]
    }
   ],
   "source": [
    "q95_rev = np.percentile(orders_df['revenue'], 95)\n",
    "q99_rev = np.percentile(orders_df['revenue'], 99)\n",
    "print(f'Percentil 95: {q95_rev:.2f}, Percentil 99: {q99_rev:.2f}')"
   ]
  },
  {
   "cell_type": "markdown",
   "metadata": {},
   "source": [
    "Un p-valor < 0.05 indica diferencia significativa en la conversión."
   ]
  },
  {
   "cell_type": "code",
   "execution_count": 445,
   "metadata": {},
   "outputs": [
    {
     "name": "stdout",
     "output_type": "stream",
     "text": [
      "1 2.0\n",
      "2 830.3\n"
     ]
    }
   ],
   "source": [
    "# Umbrales\n",
    "orders_threshold = q99_orders\n",
    "revenue_threshold = q99_rev\n",
    "\n",
    "print(\"1\", orders_threshold)\n",
    "print(\"2\", revenue_threshold)"
   ]
  },
  {
   "cell_type": "code",
   "execution_count": 446,
   "metadata": {},
   "outputs": [
    {
     "data": {
      "image/png": "[encoded data removed]",
      "text/plain": [
       "<Figure size 1000x600 with 1 Axes>"
      ]
     },
     "metadata": {},
     "output_type": "display_data"
    }
   ],
   "source": [
    "# Graficar dispersión de precios\n",
    "plt.figure(figsize=(10, 6))\n",
    "plt.scatter(orders_df['transactionId'], orders_df['revenue'], alpha=0.5, color='blue')\n",
    "\n",
    "# Configuración del gráfico\n",
    "plt.xlabel('Identificador de pedido (transactionId)')\n",
    "plt.ylabel('Precio del pedido')\n",
    "plt.title('Gráfico de Dispersión de los Precios de los Pedidos')\n",
    "plt.grid(True)\n",
    "plt.show()"
   ]
  },
  {
   "cell_type": "markdown",
   "metadata": {},
   "source": [
    "<div class=\"alert alert-block alert-success\">\n",
    "<b>Comentario de Revisor</b> <a class=\"tocSkip\"></a>\n",
    "\n",
    "Muy bien, efectivamente hay algunos precios de pedidos muy altos, especialmente uno, que afectan la data. Probablemente ese es el pedido que diferencia tanto el revenue acumulado de los grupos.\n",
    "\n",
    "</div>"
   ]
  },
  {
   "cell_type": "markdown",
   "metadata": {},
   "source": [
    "Distribución de precios: Si hay una concentración en ciertos rangos de precios, podríamos analizar qué productos o estrategias influyen en ello.\n",
    "\n",
    "Anomalías: Si encontramos valores muy elevados o extremadamente bajos, podríamos verificar si son errores de captura o casos especiales.\n",
    "\n",
    "Segmentación de clientes: Si se identifican distintos grupos de precios, podríamos inferir diferencias en el comportamiento de compra de los clientes."
   ]
  },
  {
   "cell_type": "markdown",
   "metadata": {},
   "source": [
    "2.8 Calcula los percentiles 95 y 99 de los precios de los pedidos. Define el punto en el cual un punto de datos se convierte en una anomalía."
   ]
  },
  {
   "cell_type": "code",
   "execution_count": 447,
   "metadata": {},
   "outputs": [
    {
     "name": "stdout",
     "output_type": "stream",
     "text": [
      "Percentil 95: 414.275\n",
      "Percentil 99: 830.3\n",
      "Pedidos considerados anomalías:\n",
      "      transactionId   visitorId       date  revenue group\n",
      "425       590470918  1920142716 2019-08-19  19920.4     B\n",
      "743      3603576309  4133034833 2019-08-09   1050.0     A\n",
      "744      3668308183   888512513 2019-08-27   1335.6     B\n",
      "940      2420050534  4003628586 2019-08-08    905.8     B\n",
      "949      1347999392   887908475 2019-08-21    930.0     A\n",
      "1099      316924019   148427295 2019-08-12   1015.9     A\n",
      "1103     1348774318  1164614297 2019-08-12   1025.8     A\n",
      "1136      666610489  1307669133 2019-08-13   1425.8     A\n",
      "1196     3936777065  2108080724 2019-08-15   3120.1     B\n"
     ]
    }
   ],
   "source": [
    "# Calcular percentiles 95 y 99\n",
    "percentile_95 = np.percentile(orders_df['revenue'], 95)\n",
    "percentile_99 = np.percentile(orders_df['revenue'], 99)\n",
    "\n",
    "# Definir anomalías (pedidos con precio mayor al percentil 99)\n",
    "anomalies = orders_df[orders_df['revenue'] > percentile_99]\n",
    "\n",
    "# Mostrar resultados\n",
    "print(f\"Percentil 95: {percentile_95}\")\n",
    "print(f\"Percentil 99: {percentile_99}\")\n",
    "print(f\"Pedidos considerados anomalías:\\n{anomalies}\")"
   ]
  },
  {
   "cell_type": "markdown",
   "metadata": {},
   "source": [
    "Valores por encima del percentil 99 pueden ser considerados como casos atípicos, ya que representan precios de pedidos excepcionalmente altos comparados con el resto de los datos.\n",
    "\n",
    "Valores entre el percentil 95 y 99 pueden indicar precios superiores al promedio pero aún dentro de un rango razonable.\n",
    "\n",
    "Posibles explicaciones de anomalías: Podrían deberse a compras de gran volumen, productos exclusivos o errores en la captura de datos."
   ]
  },
  {
   "cell_type": "markdown",
   "metadata": {},
   "source": [
    "2.9 Encuentra la significancia estadística de la diferencia en la conversión entre los grupos utilizando los datos en bruto. Haz conclusiones y conjeturas."
   ]
  },
  {
   "cell_type": "code",
   "execution_count": 448,
   "metadata": {},
   "outputs": [
    {
     "name": "stdout",
     "output_type": "stream",
     "text": [
      "Estadístico Chi-cuadrado: 5.5608\n",
      "Valor p: 0.0184\n",
      "La diferencia en la conversión entre los grupos es estadísticamente significativa.\n"
     ]
    }
   ],
   "source": [
    "# Contar el número total de pedidos por grupo\n",
    "orders_count = orders_df.groupby('group')['transactionId'].count()\n",
    "\n",
    "# Contar el número total de visitas por grupo\n",
    "visits_count = visits_df.groupby('group')['visits'].sum()\n",
    "\n",
    "# Crear tabla de contingencia\n",
    "conversion_table = pd.DataFrame({'orders': orders_count, 'visits': visits_count})\n",
    "conversion_table['not_ordered'] = conversion_table['visits'] - conversion_table['orders']\n",
    "\n",
    "# Aplicar prueba de chi-cuadrado\n",
    "chi2_stat, p_value, _, _ = stats.chi2_contingency(conversion_table[['orders', 'not_ordered']])\n",
    "\n",
    "# Mostrar resultados\n",
    "print(f\"Estadístico Chi-cuadrado: {chi2_stat:.4f}\")\n",
    "print(f\"Valor p: {p_value:.4f}\")\n",
    "\n",
    "# Evaluar significancia\n",
    "if p_value < 0.05:\n",
    "    print(\"La diferencia en la conversión entre los grupos es estadísticamente significativa.\")\n",
    "else:\n",
    "    print(\"No se encontró una diferencia estadísticamente significativa entre los grupos.\")"
   ]
  },
  {
   "cell_type": "markdown",
   "metadata": {},
   "source": [
    "Si el p-value es menor que 0.05, la diferencia de conversión es significativa y podemos inferir que el cambio aplicado al grupo B tuvo un efecto real en la tasa de conversión.\n",
    "\n",
    "Si el p-value es mayor que 0.05, no hay evidencia suficiente para afirmar que la diferencia observada no es producto del azar.\n",
    "\n",
    "Si el grupo B tiene una conversión superior y es significativa, podríamos considerar implementar la variación de manera definitiva.\n",
    "\n",
    "Si los resultados no muestran diferencia significativa, podría ser necesario analizar otros factores como segmentación de usuarios o duración de la prueba."
   ]
  },
  {
   "cell_type": "markdown",
   "metadata": {},
   "source": [
    "<div class=\"alert alert-block alert-success\">\n",
    "<b>Comentario de Revisor</b> <a class=\"tocSkip\"></a>\n",
    "\n",
    "Bien hecho con este test de hipótesis. El test de chi-cuadrado es adecuado en este caso.\n",
    "\n",
    "</div>"
   ]
  },
  {
   "cell_type": "markdown",
   "metadata": {},
   "source": [
    "2.10 Encuentra la significancia estadística de la diferencia en el tamaño promedio de pedido entre los grupos utilizando los datos en bruto. Haz conclusiones y conjeturas."
   ]
  },
  {
   "cell_type": "code",
   "execution_count": 449,
   "metadata": {},
   "outputs": [
    {
     "name": "stdout",
     "output_type": "stream",
     "text": [
      "Prueba t de Student - Estadístico: -0.7757, p-value: 0.4381\n",
      "Prueba Mann-Whitney U - Estadístico: 129041.5000, p-value: 0.8622\n",
      "No se encontró una diferencia estadísticamente significativa en el tamaño promedio de pedido entre los grupos.\n"
     ]
    }
   ],
   "source": [
    "# Comparar la distribución de ingresos entre los grupos\n",
    "group_A = orders_df[orders_df['group'] == 'A']['revenue']\n",
    "group_B = orders_df[orders_df['group'] == 'B']['revenue']\n",
    "\n",
    "\n",
    "\n",
    "# Aplicar prueba t de Student (si los datos siguen distribución normal)\n",
    "t_stat, p_value_t = stats.ttest_ind(group_A, group_B)\n",
    "\n",
    "# Aplicar prueba de Mann-Whitney U (si los datos no siguen distribución normal)\n",
    "u_stat, p_value_u = stats.mannwhitneyu(group_A, group_B)\n",
    "\n",
    "# Mostrar resultados\n",
    "print(f\"Prueba t de Student - Estadístico: {t_stat:.4f}, p-value: {p_value_t:.4f}\")\n",
    "print(f\"Prueba Mann-Whitney U - Estadístico: {u_stat:.4f}, p-value: {p_value_u:.4f}\")\n",
    "\n",
    "# Evaluar significancia\n",
    "if p_value_t < 0.05 or p_value_u < 0.05:\n",
    "    print(\"La diferencia en el tamaño promedio de pedido entre los grupos es estadísticamente significativa.\")\n",
    "else:\n",
    "    print(\"No se encontró una diferencia estadísticamente significativa en el tamaño promedio de pedido entre los grupos.\")"
   ]
  },
  {
   "cell_type": "markdown",
   "metadata": {},
   "source": [
    "Si la diferencia es significativa, el cambio aplicado al grupo B pudo haber influido en el tamaño promedio de los pedidos.\n",
    "\n",
    "Si la diferencia no es significativa, podríamos considerar que la variación no tuvo un impacto real o que otros factores afectaron la conversión.\n",
    "\n",
    "Si la distribución de ingresos muestra grandes diferencias, podríamos investigar si ciertos usuarios tienen compras fuera de lo común."
   ]
  },
  {
   "cell_type": "markdown",
   "metadata": {},
   "source": [
    "<div class=\"alert alert-block alert-success\">\n",
    "<b>Comentario de Revisor</b> <a class=\"tocSkip\"></a>\n",
    "\n",
    "Correcto, para este caso se requiere un test como del de Mann-Whitney U.\n",
    "\n",
    "</div>"
   ]
  },
  {
   "cell_type": "code",
   "execution_count": 450,
   "metadata": {},
   "outputs": [
    {
     "data": {
      "text/html": [
       "<div>\n",
       "<style scoped>\n",
       "    .dataframe tbody tr th:only-of-type {\n",
       "        vertical-align: middle;\n",
       "    }\n",
       "\n",
       "    .dataframe tbody tr th {\n",
       "        vertical-align: top;\n",
       "    }\n",
       "\n",
       "    .dataframe thead th {\n",
       "        text-align: right;\n",
       "    }\n",
       "</style>\n",
       "<table border=\"1\" class=\"dataframe\">\n",
       "  <thead>\n",
       "    <tr style=\"text-align: right;\">\n",
       "      <th></th>\n",
       "      <th>transactionId</th>\n",
       "      <th>visitorId</th>\n",
       "      <th>date</th>\n",
       "      <th>revenue</th>\n",
       "      <th>group</th>\n",
       "    </tr>\n",
       "  </thead>\n",
       "  <tbody>\n",
       "    <tr>\n",
       "      <th>0</th>\n",
       "      <td>3667963787</td>\n",
       "      <td>3312258926</td>\n",
       "      <td>2019-08-15</td>\n",
       "      <td>30.4</td>\n",
       "      <td>B</td>\n",
       "    </tr>\n",
       "    <tr>\n",
       "      <th>1</th>\n",
       "      <td>2804400009</td>\n",
       "      <td>3642806036</td>\n",
       "      <td>2019-08-15</td>\n",
       "      <td>15.2</td>\n",
       "      <td>B</td>\n",
       "    </tr>\n",
       "    <tr>\n",
       "      <th>3</th>\n",
       "      <td>3797467345</td>\n",
       "      <td>1196621759</td>\n",
       "      <td>2019-08-15</td>\n",
       "      <td>155.1</td>\n",
       "      <td>B</td>\n",
       "    </tr>\n",
       "    <tr>\n",
       "      <th>4</th>\n",
       "      <td>2282983706</td>\n",
       "      <td>2322279887</td>\n",
       "      <td>2019-08-15</td>\n",
       "      <td>40.5</td>\n",
       "      <td>B</td>\n",
       "    </tr>\n",
       "    <tr>\n",
       "      <th>5</th>\n",
       "      <td>182168103</td>\n",
       "      <td>935554773</td>\n",
       "      <td>2019-08-15</td>\n",
       "      <td>35.0</td>\n",
       "      <td>B</td>\n",
       "    </tr>\n",
       "  </tbody>\n",
       "</table>\n",
       "</div>"
      ],
      "text/plain": [
       "   transactionId   visitorId       date  revenue group\n",
       "0     3667963787  3312258926 2019-08-15     30.4     B\n",
       "1     2804400009  3642806036 2019-08-15     15.2     B\n",
       "3     3797467345  1196621759 2019-08-15    155.1     B\n",
       "4     2282983706  2322279887 2019-08-15     40.5     B\n",
       "5      182168103   935554773 2019-08-15     35.0     B"
      ]
     },
     "execution_count": 450,
     "metadata": {},
     "output_type": "execute_result"
    }
   ],
   "source": [
    "filtered_orders.head()"
   ]
  },
  {
   "cell_type": "markdown",
   "metadata": {},
   "source": [
    "2.11 Encuentra la significancia estadística de la diferencia en la conversión entre los grupos utilizando los datos filtrados. Haz conclusiones y conjeturas."
   ]
  },
  {
   "cell_type": "code",
   "execution_count": 451,
   "metadata": {},
   "outputs": [
    {
     "name": "stdout",
     "output_type": "stream",
     "text": [
      "Estadístico Chi-cuadrado: 7.3990\n",
      "Valor p: 0.0065\n",
      "La diferencia en la conversión entre los grupos es estadísticamente significativa.\n"
     ]
    }
   ],
   "source": [
    "# Contar el número total de pedidos por grupo\n",
    "orders_count = filtered_orders.groupby('group')['transactionId'].count()\n",
    "\n",
    "# Contar el número total de visitas por grupo\n",
    "visits_count = visits_df.groupby('group')['visits'].sum()\n",
    "\n",
    "# Crear tabla de contingencia\n",
    "conversion_table = pd.DataFrame({'orders': orders_count, 'visits': visits_count})\n",
    "conversion_table['not_ordered'] = conversion_table['visits'] - conversion_table['orders']\n",
    "\n",
    "# Aplicar prueba de chi-cuadrado\n",
    "chi2_stat, p_value, _, _ = stats.chi2_contingency(conversion_table[['orders', 'not_ordered']])\n",
    "\n",
    "# Mostrar resultados\n",
    "print(f\"Estadístico Chi-cuadrado: {chi2_stat:.4f}\")\n",
    "print(f\"Valor p: {p_value:.4f}\")\n",
    "\n",
    "# Evaluar significancia\n",
    "if p_value < 0.05:\n",
    "    print(\"La diferencia en la conversión entre los grupos es estadísticamente significativa.\")\n",
    "else:\n",
    "    print(\"No se encontró una diferencia estadísticamente significativa entre los grupos.\")"
   ]
  },
  {
   "cell_type": "markdown",
   "metadata": {},
   "source": [
    "Si el p-value es menor que 0.05, la diferencia en conversión entre los grupos es significativa, lo que indica que la variación aplicada en el test A/B tuvo un impacto real en la tasa de conversión.\n",
    "\n",
    "Si el p-value es mayor que 0.05, no hay evidencia estadística suficiente para afirmar que la variación tuvo un efecto significativo en la conversión.\n",
    "\n",
    "Comparación con datos sin filtrar: Si los resultados cambian significativamente en comparación con los datos sin filtrar, podríamos analizar qué anomalías estaban afectando los resultados iniciales."
   ]
  },
  {
   "cell_type": "markdown",
   "metadata": {},
   "source": [
    "2.12 Encuentra la significancia estadística de la diferencia en el tamaño promedio de pedido entre los grupos utilizando los datos filtrados. Haz conclusiones y conjeturas."
   ]
  },
  {
   "cell_type": "code",
   "execution_count": 452,
   "metadata": {},
   "outputs": [
    {
     "name": "stdout",
     "output_type": "stream",
     "text": [
      "Prueba t de Student - Estadístico: 0.3823, p-value: 0.7023\n",
      "Prueba Mann-Whitney U - Estadístico: 121514.0000, p-value: 0.8220\n",
      "No se encontró una diferencia estadísticamente significativa en el tamaño promedio de pedido entre los grupos.\n"
     ]
    },
    {
     "name": "stderr",
     "output_type": "stream",
     "text": [
      "/tmp/ipykernel_33/3538114560.py:2: UserWarning: Boolean Series key will be reindexed to match DataFrame index.\n",
      "  group_A = filtered_orders[orders_df['group'] == 'A']['revenue']\n",
      "/tmp/ipykernel_33/3538114560.py:3: UserWarning: Boolean Series key will be reindexed to match DataFrame index.\n",
      "  group_B = filtered_orders[orders_df['group'] == 'B']['revenue']\n"
     ]
    }
   ],
   "source": [
    "\n",
    "# Comparar la distribución de ingresos entre los grupos\n",
    "group_A = filtered_orders[orders_df['group'] == 'A']['revenue']\n",
    "group_B = filtered_orders[orders_df['group'] == 'B']['revenue']\n",
    "\n",
    "\n",
    "# Aplicar prueba t de Student (si los datos siguen distribución normal)\n",
    "t_stat, p_value_t = stats.ttest_ind(group_A, group_B)\n",
    "\n",
    "# Aplicar prueba de Mann-Whitney U (si los datos no siguen distribución normal)\n",
    "u_stat, p_value_u = stats.mannwhitneyu(group_A, group_B)\n",
    "\n",
    "# Mostrar resultados\n",
    "print(f\"Prueba t de Student - Estadístico: {t_stat:.4f}, p-value: {p_value_t:.4f}\")\n",
    "print(f\"Prueba Mann-Whitney U - Estadístico: {u_stat:.4f}, p-value: {p_value_u:.4f}\")\n",
    "\n",
    "# Evaluar significancia\n",
    "if p_value_t < 0.05 or p_value_u < 0.05:\n",
    "    print(\"La diferencia en el tamaño promedio de pedido entre los grupos es estadísticamente significativa.\")\n",
    "else:\n",
    "    print(\"No se encontró una diferencia estadísticamente significativa en el tamaño promedio de pedido entre los grupos.\")"
   ]
  },
  {
   "cell_type": "markdown",
   "metadata": {},
   "source": [
    "Si la diferencia es significativa, el cambio aplicado al grupo B pudo haber influido en el tamaño promedio de los pedidos.\n",
    "\n",
    "Si la diferencia no es significativa, podríamos considerar que la variación no tuvo un impacto real o que otros factores afectaron la conversión.\n",
    "\n",
    "Si la distribución de ingresos muestra grandes diferencias, podríamos investigar si ciertos usuarios tienen compras fuera de lo común."
   ]
  },
  {
   "cell_type": "markdown",
   "metadata": {},
   "source": [
    "2.13 Toma una decisión basada en los resultados de la prueba. Las decisiones posibles son: 1. Parar la prueba, considerar a uno de los grupos como líder. 2. Parar la prueba, concluir que no hay diferencia entre los grupos. 3. Continuar la prueba."
   ]
  },
  {
   "cell_type": "markdown",
   "metadata": {},
   "source": [
    "<div class=\"alert alert-block alert-success\">\n",
    "<b>Comentario de Revisor</b> <a class=\"tocSkip\"></a>\n",
    "\n",
    "Correcto, muy bien los tests!\n",
    "\n",
    "</div>"
   ]
  },
  {
   "cell_type": "markdown",
   "metadata": {},
   "source": [
    "### Decisión basada en los resultados:\n",
    "1.Parar la prueba y considerar a un grupo como líder → Si el grupo B tuvo mejor conversión y un mayor tamaño promedio de pedido con significancia estadística, podríamos implementar los cambios en toda la tienda online.\n",
    "2.Parar la prueba y concluir que no hay diferencia → Si los resultados no muestran diferencias claras entre los grupos, podríamos concluir que la variación probada no tuvo un impacto significativo.\n",
    "3.Continuar la prueba → Si los resultados aún no son concluyentes y la prueba no ha alcanzado el tamaño de muestra adecuado, podríamos extender la duración para obtener datos más sólidos. \n",
    "\n",
    "Si ambos indicadores muestran una mejora significativa (p < 0.05) para el grupo B, se podría considerar a B como ganador y detener la prueba. Si no hay diferencia significativa o los resultados son contradictorios, recomendamos continuar o parar concluyendo que no hay diferencias.\n"
   ]
  },
  {
   "cell_type": "markdown",
   "metadata": {},
   "source": [
    "<div class=\"alert alert-block alert-success\">\n",
    "<b>Comentario de Revisor v2</b> <a class=\"tocSkip\"></a>\n",
    "\n",
    "Bien hecho con estas conclusiones. Podrías mejorarlas incluyendo algunos valores de las métricas más importantes, así las afirmaciones realizadas estarían mejor apoyadas en hechos.\n",
    "    \n",
    "</div>"
   ]
  },
  {
   "cell_type": "code",
   "execution_count": null,
   "metadata": {},
   "outputs": [],
   "source": []
  }
 ],
 "metadata": {
  "ExecuteTimeLog": [
   {
    "duration": 2250,
    "start_time": "2025-05-11T15:45:24.192Z"
   },
   {
    "duration": 605,
    "start_time": "2025-05-11T15:45:44.793Z"
   },
   {
    "duration": 15,
    "start_time": "2025-05-11T15:46:37.474Z"
   },
   {
    "duration": 15,
    "start_time": "2025-05-11T15:46:50.884Z"
   },
   {
    "duration": 5,
    "start_time": "2025-05-11T15:47:09.369Z"
   },
   {
    "duration": 12,
    "start_time": "2025-05-11T15:47:41.978Z"
   },
   {
    "duration": 14,
    "start_time": "2025-05-11T15:48:13.867Z"
   },
   {
    "duration": 8,
    "start_time": "2025-05-11T15:48:47.587Z"
   },
   {
    "duration": 5436,
    "start_time": "2025-05-11T15:48:58.241Z"
   },
   {
    "duration": 9,
    "start_time": "2025-05-11T15:49:15.834Z"
   },
   {
    "duration": 6,
    "start_time": "2025-05-11T15:49:36.732Z"
   },
   {
    "duration": 8,
    "start_time": "2025-05-11T15:50:01.568Z"
   },
   {
    "duration": 8,
    "start_time": "2025-05-11T15:56:04.758Z"
   },
   {
    "duration": 6,
    "start_time": "2025-05-11T15:56:17.522Z"
   },
   {
    "duration": 12,
    "start_time": "2025-05-11T15:58:38.768Z"
   },
   {
    "duration": 18,
    "start_time": "2025-05-11T16:00:20.855Z"
   },
   {
    "duration": 16,
    "start_time": "2025-05-11T16:00:52.049Z"
   },
   {
    "duration": 184,
    "start_time": "2025-05-11T16:01:21.689Z"
   },
   {
    "duration": 4,
    "start_time": "2025-05-11T16:02:14.369Z"
   },
   {
    "duration": 8,
    "start_time": "2025-05-11T16:02:58.097Z"
   },
   {
    "duration": 12,
    "start_time": "2025-05-11T16:04:20.686Z"
   },
   {
    "duration": 14,
    "start_time": "2025-05-11T16:53:44.684Z"
   },
   {
    "duration": 13,
    "start_time": "2025-05-11T16:54:48.739Z"
   },
   {
    "duration": 9,
    "start_time": "2025-05-11T16:58:56.727Z"
   },
   {
    "duration": 20,
    "start_time": "2025-05-11T17:03:55.141Z"
   },
   {
    "duration": 4,
    "start_time": "2025-05-11T17:04:04.451Z"
   },
   {
    "duration": 5,
    "start_time": "2025-05-11T17:04:20.579Z"
   },
   {
    "duration": 4,
    "start_time": "2025-05-11T17:04:28.244Z"
   },
   {
    "duration": 3,
    "start_time": "2025-05-11T17:06:35.165Z"
   },
   {
    "duration": 3,
    "start_time": "2025-05-11T17:06:45.137Z"
   },
   {
    "duration": 12,
    "start_time": "2025-05-11T17:06:53.291Z"
   },
   {
    "duration": 5,
    "start_time": "2025-05-11T17:06:55.340Z"
   },
   {
    "duration": 8,
    "start_time": "2025-05-11T17:07:35.614Z"
   },
   {
    "duration": 10,
    "start_time": "2025-05-11T17:08:31.190Z"
   },
   {
    "duration": 7,
    "start_time": "2025-05-11T17:09:03.990Z"
   },
   {
    "duration": 127,
    "start_time": "2025-05-11T17:10:58.627Z"
   },
   {
    "duration": 5,
    "start_time": "2025-05-11T17:11:10.787Z"
   },
   {
    "duration": 10,
    "start_time": "2025-05-11T17:11:20.252Z"
   },
   {
    "duration": 5,
    "start_time": "2025-05-11T17:12:27.600Z"
   },
   {
    "duration": 9,
    "start_time": "2025-05-11T17:12:42.296Z"
   },
   {
    "duration": 12,
    "start_time": "2025-05-11T17:13:51.932Z"
   },
   {
    "duration": 8,
    "start_time": "2025-05-11T17:14:21.479Z"
   },
   {
    "duration": 7,
    "start_time": "2025-05-11T17:14:38.530Z"
   },
   {
    "duration": 13,
    "start_time": "2025-05-11T17:14:52.226Z"
   },
   {
    "duration": 8,
    "start_time": "2025-05-11T17:15:00.989Z"
   },
   {
    "duration": 6,
    "start_time": "2025-05-11T17:16:59.422Z"
   },
   {
    "duration": 5,
    "start_time": "2025-05-11T17:17:14.029Z"
   },
   {
    "duration": 9,
    "start_time": "2025-05-11T17:17:22.048Z"
   },
   {
    "duration": 12,
    "start_time": "2025-05-11T17:18:59.666Z"
   },
   {
    "duration": 11,
    "start_time": "2025-05-11T17:21:27.815Z"
   },
   {
    "duration": 13,
    "start_time": "2025-05-11T17:22:23.328Z"
   },
   {
    "duration": 286,
    "start_time": "2025-05-11T17:23:09.314Z"
   },
   {
    "duration": 7,
    "start_time": "2025-05-11T17:28:16.645Z"
   },
   {
    "duration": 215,
    "start_time": "2025-05-11T17:28:47.619Z"
   },
   {
    "duration": 11,
    "start_time": "2025-05-11T17:30:58.174Z"
   },
   {
    "duration": 359,
    "start_time": "2025-05-11T17:31:09.797Z"
   },
   {
    "duration": 224,
    "start_time": "2025-05-11T17:36:47.016Z"
   },
   {
    "duration": 16,
    "start_time": "2025-05-11T17:39:49.700Z"
   },
   {
    "duration": 14,
    "start_time": "2025-05-11T17:43:01.625Z"
   },
   {
    "duration": 7,
    "start_time": "2025-05-11T17:44:31.903Z"
   },
   {
    "duration": 7,
    "start_time": "2025-05-11T17:44:54.580Z"
   },
   {
    "duration": 13,
    "start_time": "2025-05-11T17:45:07.733Z"
   },
   {
    "duration": 336,
    "start_time": "2025-05-11T17:45:21.214Z"
   },
   {
    "duration": 223,
    "start_time": "2025-05-11T17:45:53.720Z"
   },
   {
    "duration": 340,
    "start_time": "2025-05-11T17:46:24.409Z"
   },
   {
    "duration": 319,
    "start_time": "2025-05-11T17:47:41.830Z"
   },
   {
    "duration": 10,
    "start_time": "2025-05-11T17:47:56.101Z"
   },
   {
    "duration": 373,
    "start_time": "2025-05-11T17:48:13.036Z"
   },
   {
    "duration": 11,
    "start_time": "2025-05-11T17:53:16.311Z"
   },
   {
    "duration": 12,
    "start_time": "2025-05-11T17:53:44.902Z"
   },
   {
    "duration": 350,
    "start_time": "2025-05-11T17:54:00.712Z"
   },
   {
    "duration": 9,
    "start_time": "2025-05-11T17:57:02.383Z"
   },
   {
    "duration": 127,
    "start_time": "2025-05-11T17:58:51.165Z"
   },
   {
    "duration": 4,
    "start_time": "2025-05-11T18:00:02.772Z"
   },
   {
    "duration": 8,
    "start_time": "2025-05-11T18:01:42.138Z"
   },
   {
    "duration": 8,
    "start_time": "2025-05-11T18:04:11.294Z"
   },
   {
    "duration": 4,
    "start_time": "2025-05-11T18:04:31.654Z"
   },
   {
    "duration": 4,
    "start_time": "2025-05-11T18:05:15.418Z"
   },
   {
    "duration": 3,
    "start_time": "2025-05-11T18:05:26.298Z"
   },
   {
    "duration": 153,
    "start_time": "2025-05-11T18:06:21.325Z"
   },
   {
    "duration": 7,
    "start_time": "2025-05-11T18:09:40.677Z"
   },
   {
    "duration": 8,
    "start_time": "2025-05-11T18:12:52.415Z"
   },
   {
    "duration": 223,
    "start_time": "2025-05-11T18:18:36.434Z"
   },
   {
    "duration": 8,
    "start_time": "2025-05-11T18:20:35.346Z"
   },
   {
    "duration": 9,
    "start_time": "2025-05-11T18:21:03.475Z"
   },
   {
    "duration": 321,
    "start_time": "2025-05-11T18:23:06.637Z"
   },
   {
    "duration": 9,
    "start_time": "2025-05-11T18:23:19.198Z"
   },
   {
    "duration": 6,
    "start_time": "2025-05-11T18:24:32.378Z"
   },
   {
    "duration": 4,
    "start_time": "2025-05-11T18:24:56.338Z"
   },
   {
    "duration": 5,
    "start_time": "2025-05-11T18:25:20.523Z"
   },
   {
    "duration": 8,
    "start_time": "2025-05-11T18:26:52.144Z"
   },
   {
    "duration": 4,
    "start_time": "2025-05-11T18:27:40.258Z"
   },
   {
    "duration": 8,
    "start_time": "2025-05-11T18:28:17.444Z"
   },
   {
    "duration": 45,
    "start_time": "2025-05-11T18:28:48.596Z"
   },
   {
    "duration": 13,
    "start_time": "2025-05-11T18:33:57.680Z"
   },
   {
    "duration": 4,
    "start_time": "2025-05-11T18:38:14.394Z"
   },
   {
    "duration": 3,
    "start_time": "2025-05-11T18:38:34.400Z"
   },
   {
    "duration": 41,
    "start_time": "2025-05-11T18:38:52.678Z"
   },
   {
    "duration": 9,
    "start_time": "2025-05-11T18:40:39.537Z"
   },
   {
    "duration": 5,
    "start_time": "2025-05-11T18:40:45.966Z"
   },
   {
    "duration": 3,
    "start_time": "2025-05-11T18:41:02.023Z"
   },
   {
    "duration": 15,
    "start_time": "2025-05-11T18:41:03.782Z"
   },
   {
    "duration": 7,
    "start_time": "2025-05-11T18:41:05.761Z"
   },
   {
    "duration": 8,
    "start_time": "2025-05-11T18:41:08.064Z"
   },
   {
    "duration": 8,
    "start_time": "2025-05-11T18:41:10.232Z"
   },
   {
    "duration": 8,
    "start_time": "2025-05-11T18:41:12.621Z"
   },
   {
    "duration": 13,
    "start_time": "2025-05-11T18:41:16.369Z"
   },
   {
    "duration": 8,
    "start_time": "2025-05-11T18:41:18.730Z"
   },
   {
    "duration": 9,
    "start_time": "2025-05-11T18:41:20.684Z"
   },
   {
    "duration": 10,
    "start_time": "2025-05-11T18:41:23.162Z"
   },
   {
    "duration": 6,
    "start_time": "2025-05-11T18:41:27.591Z"
   },
   {
    "duration": 4,
    "start_time": "2025-05-11T18:41:30.683Z"
   },
   {
    "duration": 7,
    "start_time": "2025-05-11T18:42:10.755Z"
   },
   {
    "duration": 12,
    "start_time": "2025-05-11T18:42:14.541Z"
   },
   {
    "duration": 13,
    "start_time": "2025-05-11T18:42:18.251Z"
   },
   {
    "duration": 243,
    "start_time": "2025-05-11T18:42:20.656Z"
   },
   {
    "duration": 7,
    "start_time": "2025-05-11T18:42:27.408Z"
   },
   {
    "duration": 11,
    "start_time": "2025-05-11T18:42:29.905Z"
   },
   {
    "duration": 337,
    "start_time": "2025-05-11T18:42:32.509Z"
   },
   {
    "duration": 7,
    "start_time": "2025-05-11T18:42:37.981Z"
   },
   {
    "duration": 14,
    "start_time": "2025-05-11T18:42:39.934Z"
   },
   {
    "duration": 327,
    "start_time": "2025-05-11T18:42:41.958Z"
   },
   {
    "duration": 9,
    "start_time": "2025-05-11T18:42:51.223Z"
   },
   {
    "duration": 384,
    "start_time": "2025-05-11T18:42:53.127Z"
   },
   {
    "duration": 11,
    "start_time": "2025-05-11T18:42:58.517Z"
   },
   {
    "duration": 12,
    "start_time": "2025-05-11T18:43:01.309Z"
   },
   {
    "duration": 330,
    "start_time": "2025-05-11T18:43:04.223Z"
   },
   {
    "duration": 9,
    "start_time": "2025-05-11T18:43:09.318Z"
   },
   {
    "duration": 125,
    "start_time": "2025-05-11T18:43:11.165Z"
   },
   {
    "duration": 3,
    "start_time": "2025-05-11T18:43:19.577Z"
   },
   {
    "duration": 8,
    "start_time": "2025-05-11T18:43:23.585Z"
   },
   {
    "duration": 11,
    "start_time": "2025-05-11T18:43:28.746Z"
   },
   {
    "duration": 6,
    "start_time": "2025-05-11T18:43:34.198Z"
   },
   {
    "duration": 5,
    "start_time": "2025-05-11T18:43:35.830Z"
   },
   {
    "duration": 4,
    "start_time": "2025-05-11T18:43:38.206Z"
   },
   {
    "duration": 4,
    "start_time": "2025-05-11T18:44:23.492Z"
   },
   {
    "duration": 3,
    "start_time": "2025-05-11T18:44:25.379Z"
   },
   {
    "duration": 39,
    "start_time": "2025-05-11T18:44:27.304Z"
   },
   {
    "duration": 41,
    "start_time": "2025-05-11T18:44:34.910Z"
   },
   {
    "duration": 8,
    "start_time": "2025-05-11T18:45:05.664Z"
   },
   {
    "duration": 5,
    "start_time": "2025-05-11T18:45:10.061Z"
   },
   {
    "duration": 8,
    "start_time": "2025-05-11T18:45:38.381Z"
   },
   {
    "duration": 43,
    "start_time": "2025-05-11T18:45:51.876Z"
   },
   {
    "duration": 8,
    "start_time": "2025-05-11T18:46:56.463Z"
   },
   {
    "duration": 4,
    "start_time": "2025-05-11T18:46:57.986Z"
   },
   {
    "duration": 125,
    "start_time": "2025-05-11T18:47:00.103Z"
   },
   {
    "duration": 6,
    "start_time": "2025-05-11T18:47:03.815Z"
   },
   {
    "duration": 7,
    "start_time": "2025-05-11T18:47:07.990Z"
   },
   {
    "duration": 8,
    "start_time": "2025-05-11T18:47:13.824Z"
   },
   {
    "duration": 5,
    "start_time": "2025-05-11T18:47:16.438Z"
   },
   {
    "duration": 4,
    "start_time": "2025-05-11T18:47:18.344Z"
   },
   {
    "duration": 4,
    "start_time": "2025-05-11T18:47:20.078Z"
   },
   {
    "duration": 4,
    "start_time": "2025-05-11T18:47:21.228Z"
   },
   {
    "duration": 3,
    "start_time": "2025-05-11T18:47:22.769Z"
   },
   {
    "duration": 3,
    "start_time": "2025-05-11T18:47:36.601Z"
   },
   {
    "duration": 12,
    "start_time": "2025-05-11T18:47:37.707Z"
   },
   {
    "duration": 6,
    "start_time": "2025-05-11T18:47:38.636Z"
   },
   {
    "duration": 8,
    "start_time": "2025-05-11T18:47:41.641Z"
   },
   {
    "duration": 6,
    "start_time": "2025-05-11T18:47:42.819Z"
   },
   {
    "duration": 8,
    "start_time": "2025-05-11T18:47:45.164Z"
   },
   {
    "duration": 13,
    "start_time": "2025-05-11T18:47:46.851Z"
   },
   {
    "duration": 7,
    "start_time": "2025-05-11T18:47:48.747Z"
   },
   {
    "duration": 8,
    "start_time": "2025-05-11T18:47:50.697Z"
   },
   {
    "duration": 9,
    "start_time": "2025-05-11T18:47:52.443Z"
   },
   {
    "duration": 6,
    "start_time": "2025-05-11T18:47:55.784Z"
   },
   {
    "duration": 4,
    "start_time": "2025-05-11T18:47:57.623Z"
   },
   {
    "duration": 7,
    "start_time": "2025-05-11T18:47:59.346Z"
   },
   {
    "duration": 13,
    "start_time": "2025-05-11T18:48:03.541Z"
   },
   {
    "duration": 13,
    "start_time": "2025-05-11T18:48:10.322Z"
   },
   {
    "duration": 244,
    "start_time": "2025-05-11T18:48:13.411Z"
   },
   {
    "duration": 8,
    "start_time": "2025-05-11T18:48:19.281Z"
   },
   {
    "duration": 11,
    "start_time": "2025-05-11T18:48:21.738Z"
   },
   {
    "duration": 318,
    "start_time": "2025-05-11T18:48:23.926Z"
   },
   {
    "duration": 7,
    "start_time": "2025-05-11T18:48:29.224Z"
   },
   {
    "duration": 13,
    "start_time": "2025-05-11T18:48:31.081Z"
   },
   {
    "duration": 347,
    "start_time": "2025-05-11T18:48:33.601Z"
   },
   {
    "duration": 9,
    "start_time": "2025-05-11T18:48:45.930Z"
   },
   {
    "duration": 390,
    "start_time": "2025-05-11T18:48:50.264Z"
   },
   {
    "duration": 12,
    "start_time": "2025-05-11T18:48:56.361Z"
   },
   {
    "duration": 12,
    "start_time": "2025-05-11T18:48:58.514Z"
   },
   {
    "duration": 326,
    "start_time": "2025-05-11T18:49:00.537Z"
   },
   {
    "duration": 9,
    "start_time": "2025-05-11T18:49:06.184Z"
   },
   {
    "duration": 5,
    "start_time": "2025-05-11T18:49:08.370Z"
   },
   {
    "duration": 126,
    "start_time": "2025-05-11T18:49:11.189Z"
   },
   {
    "duration": 4,
    "start_time": "2025-05-11T18:49:14.913Z"
   },
   {
    "duration": 9,
    "start_time": "2025-05-11T18:49:18.306Z"
   },
   {
    "duration": 8,
    "start_time": "2025-05-11T18:49:25.133Z"
   },
   {
    "duration": 4,
    "start_time": "2025-05-11T18:49:27.453Z"
   },
   {
    "duration": 4,
    "start_time": "2025-05-11T18:49:28.987Z"
   },
   {
    "duration": 3,
    "start_time": "2025-05-11T18:49:30.902Z"
   },
   {
    "duration": 4,
    "start_time": "2025-05-11T18:49:32.948Z"
   },
   {
    "duration": 3,
    "start_time": "2025-05-11T18:49:35.686Z"
   },
   {
    "duration": 153,
    "start_time": "2025-05-11T18:49:41.120Z"
   },
   {
    "duration": 6,
    "start_time": "2025-05-11T18:50:48.981Z"
   },
   {
    "duration": 3,
    "start_time": "2025-05-11T18:50:50.099Z"
   },
   {
    "duration": 4,
    "start_time": "2025-05-11T18:50:53.808Z"
   },
   {
    "duration": 3,
    "start_time": "2025-05-11T18:50:56.430Z"
   },
   {
    "duration": 152,
    "start_time": "2025-05-11T18:51:19.376Z"
   },
   {
    "duration": 7,
    "start_time": "2025-05-11T18:51:29.095Z"
   },
   {
    "duration": 8,
    "start_time": "2025-05-11T18:51:35.294Z"
   },
   {
    "duration": 9,
    "start_time": "2025-05-11T18:51:41.568Z"
   },
   {
    "duration": 7,
    "start_time": "2025-05-11T18:52:42.236Z"
   },
   {
    "duration": 8,
    "start_time": "2025-05-11T18:54:14.623Z"
   },
   {
    "duration": 8,
    "start_time": "2025-05-11T18:55:25.013Z"
   },
   {
    "duration": 8,
    "start_time": "2025-05-11T18:56:31.430Z"
   },
   {
    "duration": 9,
    "start_time": "2025-05-11T18:57:09.930Z"
   },
   {
    "duration": 4,
    "start_time": "2025-05-11T18:58:06.481Z"
   },
   {
    "duration": 15,
    "start_time": "2025-05-11T18:58:08.307Z"
   },
   {
    "duration": 7,
    "start_time": "2025-05-11T18:58:09.791Z"
   },
   {
    "duration": 9,
    "start_time": "2025-05-11T18:58:11.676Z"
   },
   {
    "duration": 7,
    "start_time": "2025-05-11T18:58:13.795Z"
   },
   {
    "duration": 7,
    "start_time": "2025-05-11T18:58:15.866Z"
   },
   {
    "duration": 15,
    "start_time": "2025-05-11T18:58:17.641Z"
   },
   {
    "duration": 9,
    "start_time": "2025-05-11T18:58:19.803Z"
   },
   {
    "duration": 9,
    "start_time": "2025-05-11T18:58:21.785Z"
   },
   {
    "duration": 10,
    "start_time": "2025-05-11T18:58:23.564Z"
   },
   {
    "duration": 6,
    "start_time": "2025-05-11T18:58:27.545Z"
   },
   {
    "duration": 4,
    "start_time": "2025-05-11T18:58:29.662Z"
   },
   {
    "duration": 8,
    "start_time": "2025-05-11T18:58:31.378Z"
   },
   {
    "duration": 13,
    "start_time": "2025-05-11T18:58:38.105Z"
   },
   {
    "duration": 13,
    "start_time": "2025-05-11T18:58:40.078Z"
   },
   {
    "duration": 246,
    "start_time": "2025-05-11T18:58:42.944Z"
   },
   {
    "duration": 7,
    "start_time": "2025-05-11T18:58:48.580Z"
   },
   {
    "duration": 12,
    "start_time": "2025-05-11T18:58:50.250Z"
   },
   {
    "duration": 340,
    "start_time": "2025-05-11T18:58:52.428Z"
   },
   {
    "duration": 8,
    "start_time": "2025-05-11T18:58:59.415Z"
   },
   {
    "duration": 13,
    "start_time": "2025-05-11T18:59:01.487Z"
   },
   {
    "duration": 323,
    "start_time": "2025-05-11T18:59:04.326Z"
   },
   {
    "duration": 9,
    "start_time": "2025-05-11T18:59:13.021Z"
   },
   {
    "duration": 390,
    "start_time": "2025-05-11T18:59:15.177Z"
   },
   {
    "duration": 12,
    "start_time": "2025-05-11T18:59:23.638Z"
   },
   {
    "duration": 11,
    "start_time": "2025-05-11T18:59:26.070Z"
   },
   {
    "duration": 469,
    "start_time": "2025-05-11T18:59:28.345Z"
   }
  ],
  "kernelspec": {
   "display_name": "Python 3 (ipykernel)",
   "language": "python",
   "name": "python3"
  },
  "language_info": {
   "codemirror_mode": {
    "name": "ipython",
    "version": 3
   },
   "file_extension": ".py",
   "mimetype": "text/x-python",
   "name": "python",
   "nbconvert_exporter": "python",
   "pygments_lexer": "ipython3",
   "version": "3.9.22"
  },
  "toc": {
   "base_numbering": 1,
   "nav_menu": {},
   "number_sections": true,
   "sideBar": true,
   "skip_h1_title": true,
   "title_cell": "Table of Contents",
   "title_sidebar": "Contents",
   "toc_cell": false,
   "toc_position": {},
   "toc_section_display": true,
   "toc_window_display": false
  }
 },
 "nbformat": 4,
 "nbformat_minor": 4
}
